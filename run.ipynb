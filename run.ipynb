{
  "nbformat": 4,
  "nbformat_minor": 0,
  "metadata": {
    "colab": {
      "name": "run.ipynb",
      "provenance": [],
      "collapsed_sections": []
    },
    "kernelspec": {
      "name": "python3",
      "display_name": "Python 3"
    },
    "language_info": {
      "name": "python"
    }
  },
  "cells": [
    {
      "cell_type": "markdown",
      "metadata": {
        "id": "n-RAbQ6GqqtA"
      },
      "source": [
        "# **Fold 1**"
      ]
    },
    {
      "cell_type": "code",
      "metadata": {
        "id": "YAkl-CAYI07r",
        "colab": {
          "base_uri": "https://localhost:8080/"
        },
        "outputId": "45c37594-a8b3-4bf3-c4f8-effb2e6eb4a4"
      },
      "source": [
        "from google.colab import drive\n",
        "drive.mount('/content/drive')"
      ],
      "execution_count": 1,
      "outputs": [
        {
          "output_type": "stream",
          "text": [
            "Mounted at /content/drive\n"
          ],
          "name": "stdout"
        }
      ]
    },
    {
      "cell_type": "code",
      "metadata": {
        "colab": {
          "base_uri": "https://localhost:8080/"
        },
        "id": "rbrAGNTtcNey",
        "outputId": "949ad6e6-1fb6-4118-9d4a-bde78deb3f9e"
      },
      "source": [
        "!sh /content/drive/MyDrive/xgboost-master/demo/rank/wgetdata.sh"
      ],
      "execution_count": 2,
      "outputs": [
        {
          "output_type": "stream",
          "text": [
            "Downloading data.\n",
            "--2021-05-18 23:46:27--  https://s3-us-west-2.amazonaws.com/xgboost-examples/MQ2008.rar\n",
            "Resolving s3-us-west-2.amazonaws.com (s3-us-west-2.amazonaws.com)... 52.218.220.224\n",
            "Connecting to s3-us-west-2.amazonaws.com (s3-us-west-2.amazonaws.com)|52.218.220.224|:443... connected.\n",
            "HTTP request sent, awaiting response... 200 OK\n",
            "Length: 15448795 (15M) [application/x-rar-compressed]\n",
            "Saving to: ‘MQ2008.rar’\n",
            "\n",
            "MQ2008.rar          100%[===================>]  14.73M  13.9MB/s    in 1.1s    \n",
            "\n",
            "2021-05-18 23:46:28 (13.9 MB/s) - ‘MQ2008.rar’ saved [15448795/15448795]\n",
            "\n",
            "\n",
            "UNRAR 5.50 freeware      Copyright (c) 1993-2017 Alexander Roshal\n",
            "\n",
            "\n",
            "Extracting from MQ2008.rar\n",
            "\n",
            "Creating    MQ2008                                                    OK\n",
            "Creating    MQ2008/Fold1                                              OK\n",
            "Extracting  MQ2008/Fold1/test.txt                                        \b\b\b\b  0%\b\b\b\b  1%\b\b\b\b  2%\b\b\b\b\b  OK \n",
            "Extracting  MQ2008/Fold1/train.txt                                       \b\b\b\b  2%\b\b\b\b  3%\b\b\b\b  4%\b\b\b\b  5%\b\b\b\b  6%\b\b\b\b  7%\b\b\b\b  8%\b\b\b\b\b  OK \n",
            "Extracting  MQ2008/Fold1/vali.txt                                        \b\b\b\b  9%\b\b\b\b 10%\b\b\b\b\b  OK \n",
            "Creating    MQ2008/Fold2                                              OK\n",
            "Extracting  MQ2008/Fold2/test.txt                                        \b\b\b\b 10%\b\b\b\b 11%\b\b\b\b 12%\b\b\b\b\b  OK \n",
            "Extracting  MQ2008/Fold2/train.txt                                       \b\b\b\b 12%\b\b\b\b 13%\b\b\b\b 14%\b\b\b\b 15%\b\b\b\b 16%\b\b\b\b 17%\b\b\b\b 18%\b\b\b\b 19%\b\b\b\b\b  OK \n",
            "Extracting  MQ2008/Fold2/vali.txt                                        \b\b\b\b 19%\b\b\b\b 20%\b\b\b\b 21%\b\b\b\b\b  OK \n",
            "Creating    MQ2008/Fold3                                              OK\n",
            "Extracting  MQ2008/Fold3/test.txt                                        \b\b\b\b 21%\b\b\b\b 22%\b\b\b\b 23%\b\b\b\b\b  OK \n",
            "Extracting  MQ2008/Fold3/train.txt                                       \b\b\b\b 24%\b\b\b\b 25%\b\b\b\b 26%\b\b\b\b 27%\b\b\b\b 28%\b\b\b\b 29%\b\b\b\b 30%\b\b\b\b\b  OK \n",
            "Extracting  MQ2008/Fold3/vali.txt                                        \b\b\b\b 30%\b\b\b\b 31%\b\b\b\b 32%\b\b\b\b\b  OK \n",
            "Creating    MQ2008/Fold4                                              OK\n",
            "Extracting  MQ2008/Fold4/test.txt                                        \b\b\b\b 32%\b\b\b\b 33%\b\b\b\b 34%\b\b\b\b\b  OK \n",
            "Extracting  MQ2008/Fold4/train.txt                                       \b\b\b\b 34%\b\b\b\b 35%\b\b\b\b 36%\b\b\b\b 37%\b\b\b\b 38%\b\b\b\b 39%\b\b\b\b 40%\b\b\b\b\b  OK \n",
            "Extracting  MQ2008/Fold4/vali.txt                                        \b\b\b\b 40%\b\b\b\b 41%\b\b\b\b 42%\b\b\b\b\b  OK \n",
            "Creating    MQ2008/Fold5                                              OK\n",
            "Extracting  MQ2008/Fold5/test.txt                                        \b\b\b\b 43%\b\b\b\b 44%\b\b\b\b\b  OK \n",
            "Extracting  MQ2008/Fold5/train.txt                                       \b\b\b\b 45%\b\b\b\b 46%\b\b\b\b 47%\b\b\b\b 48%\b\b\b\b 49%\b\b\b\b 50%\b\b\b\b 51%\b\b\b\b\b  OK \n",
            "Extracting  MQ2008/Fold5/vali.txt                                        \b\b\b\b 51%\b\b\b\b 52%\b\b\b\b 53%\b\b\b\b\b  OK \n",
            "Extracting  MQ2008/min.txt                                               \b\b\b\b 53%\b\b\b\b 54%\b\b\b\b 55%\b\b\b\b 56%\b\b\b\b 57%\b\b\b\b 58%\b\b\b\b 59%\b\b\b\b 60%\b\b\b\b 61%\b\b\b\b 62%\b\b\b\b 63%\b\b\b\b 64%\b\b\b\b 65%\b\b\b\b 66%\b\b\b\b\b  OK \n",
            "Extracting  MQ2008/NULL.txt                                              \b\b\b\b 66%\b\b\b\b 67%\b\b\b\b 68%\b\b\b\b 69%\b\b\b\b 70%\b\b\b\b 71%\b\b\b\b 72%\b\b\b\b 73%\b\b\b\b 74%\b\b\b\b 75%\b\b\b\b 76%\b\b\b\b 77%\b\b\b\b 78%\b\b\b\b\b  OK \n",
            "Extracting  MQ2008/Querylevelnorm.txt                                    \b\b\b\b 78%\b\b\b\b 79%\b\b\b\b 80%\b\b\b\b 81%\b\b\b\b 82%\b\b\b\b 83%\b\b\b\b 84%\b\b\b\b 85%\b\b\b\b 86%\b\b\b\b 87%\b\b\b\b 88%\b\b\b\b 89%\b\b\b\b\b  OK \n",
            "Extracting  MQ2008/readme.txt                                            \b\b\b\b 89%\b\b\b\b\b  OK \n",
            "Extracting  MQ2008/S1.txt                                                \b\b\b\b 89%\b\b\b\b 90%\b\b\b\b 91%\b\b\b\b\b  OK \n",
            "Extracting  MQ2008/S2.txt                                                \b\b\b\b 91%\b\b\b\b 92%\b\b\b\b 93%\b\b\b\b\b  OK \n",
            "Extracting  MQ2008/S3.txt                                                \b\b\b\b 94%\b\b\b\b 95%\b\b\b\b 96%\b\b\b\b\b  OK \n",
            "Extracting  MQ2008/S4.txt                                                \b\b\b\b 96%\b\b\b\b 97%\b\b\b\b\b  OK \n",
            "Extracting  MQ2008/S5.txt                                                \b\b\b\b 98%\b\b\b\b 99%\b\b\b\b\b  OK \n",
            "All OK\n"
          ],
          "name": "stdout"
        }
      ]
    },
    {
      "cell_type": "code",
      "metadata": {
        "colab": {
          "base_uri": "https://localhost:8080/"
        },
        "id": "_puaqGKGo-up",
        "outputId": "c5d3bb6d-0aec-4381-fa72-a268b968a3c7"
      },
      "source": [
        "!python \"/content/drive/MyDrive/xgboost-master/demo/rank/rank_sklearn.py\""
      ],
      "execution_count": 3,
      "outputs": [
        {
          "output_type": "stream",
          "text": [
            "[0]\teval_0-ndcg:0.793475\n",
            "[1]\teval_0-ndcg:0.79652\n",
            "[2]\teval_0-ndcg:0.808798\n",
            "[3]\teval_0-ndcg:0.807923\n"
          ],
          "name": "stdout"
        }
      ]
    },
    {
      "cell_type": "markdown",
      "metadata": {
        "id": "vLf6LspAqztw"
      },
      "source": [
        "# **Fold 2**"
      ]
    },
    {
      "cell_type": "code",
      "metadata": {
        "colab": {
          "base_uri": "https://localhost:8080/"
        },
        "id": "6HIT-pp5pBCu",
        "outputId": "a2583e7f-ae88-4544-8e81-94e0d7f28970"
      },
      "source": [
        "!sh /content/drive/MyDrive/xgboost-master/demo/rank/wgetdata2.sh"
      ],
      "execution_count": null,
      "outputs": [
        {
          "output_type": "stream",
          "text": [
            "Downloading data.\n",
            "--2021-05-11 08:58:32--  https://s3-us-west-2.amazonaws.com/xgboost-examples/MQ2008.rar\n",
            "Resolving s3-us-west-2.amazonaws.com (s3-us-west-2.amazonaws.com)... 52.218.179.24\n",
            "Connecting to s3-us-west-2.amazonaws.com (s3-us-west-2.amazonaws.com)|52.218.179.24|:443... connected.\n",
            "HTTP request sent, awaiting response... 200 OK\n",
            "Length: 15448795 (15M) [application/x-rar-compressed]\n",
            "Saving to: ‘MQ2008.rar’\n",
            "\n",
            "MQ2008.rar          100%[===================>]  14.73M  9.24MB/s    in 1.6s    \n",
            "\n",
            "2021-05-11 08:58:34 (9.24 MB/s) - ‘MQ2008.rar’ saved [15448795/15448795]\n",
            "\n",
            "\n",
            "UNRAR 5.50 freeware      Copyright (c) 1993-2017 Alexander Roshal\n",
            "\n",
            "\n",
            "Extracting from MQ2008.rar\n",
            "\n",
            "Creating    MQ2008                                                    OK\n",
            "Creating    MQ2008/Fold1                                              OK\n",
            "Extracting  MQ2008/Fold1/test.txt                                        \b\b\b\b  0%\b\b\b\b  1%\b\b\b\b  2%\b\b\b\b\b  OK \n",
            "Extracting  MQ2008/Fold1/train.txt                                       \b\b\b\b  2%\b\b\b\b  3%\b\b\b\b  4%\b\b\b\b  5%\b\b\b\b  6%\b\b\b\b  7%\b\b\b\b  8%\b\b\b\b\b  OK \n",
            "Extracting  MQ2008/Fold1/vali.txt                                        \b\b\b\b  9%\b\b\b\b 10%\b\b\b\b\b  OK \n",
            "Creating    MQ2008/Fold2                                              OK\n",
            "Extracting  MQ2008/Fold2/test.txt                                        \b\b\b\b 10%\b\b\b\b 11%\b\b\b\b 12%\b\b\b\b\b  OK \n",
            "Extracting  MQ2008/Fold2/train.txt                                       \b\b\b\b 12%\b\b\b\b 13%\b\b\b\b 14%\b\b\b\b 15%\b\b\b\b 16%\b\b\b\b 17%\b\b\b\b 18%\b\b\b\b 19%\b\b\b\b\b  OK \n",
            "Extracting  MQ2008/Fold2/vali.txt                                        \b\b\b\b 19%\b\b\b\b 20%\b\b\b\b 21%\b\b\b\b\b  OK \n",
            "Creating    MQ2008/Fold3                                              OK\n",
            "Extracting  MQ2008/Fold3/test.txt                                        \b\b\b\b 21%\b\b\b\b 22%\b\b\b\b 23%\b\b\b\b\b  OK \n",
            "Extracting  MQ2008/Fold3/train.txt                                       \b\b\b\b 24%\b\b\b\b 25%\b\b\b\b 26%\b\b\b\b 27%\b\b\b\b 28%\b\b\b\b 29%\b\b\b\b 30%\b\b\b\b\b  OK \n",
            "Extracting  MQ2008/Fold3/vali.txt                                        \b\b\b\b 30%\b\b\b\b 31%\b\b\b\b 32%\b\b\b\b\b  OK \n",
            "Creating    MQ2008/Fold4                                              OK\n",
            "Extracting  MQ2008/Fold4/test.txt                                        \b\b\b\b 32%\b\b\b\b 33%\b\b\b\b 34%\b\b\b\b\b  OK \n",
            "Extracting  MQ2008/Fold4/train.txt                                       \b\b\b\b 34%\b\b\b\b 35%\b\b\b\b 36%\b\b\b\b 37%\b\b\b\b 38%\b\b\b\b 39%\b\b\b\b 40%\b\b\b\b\b  OK \n",
            "Extracting  MQ2008/Fold4/vali.txt                                        \b\b\b\b 40%\b\b\b\b 41%\b\b\b\b 42%\b\b\b\b\b  OK \n",
            "Creating    MQ2008/Fold5                                              OK\n",
            "Extracting  MQ2008/Fold5/test.txt                                        \b\b\b\b 43%\b\b\b\b 44%\b\b\b\b\b  OK \n",
            "Extracting  MQ2008/Fold5/train.txt                                       \b\b\b\b 45%\b\b\b\b 46%\b\b\b\b 47%\b\b\b\b 48%\b\b\b\b 49%\b\b\b\b 50%\b\b\b\b 51%\b\b\b\b\b  OK \n",
            "Extracting  MQ2008/Fold5/vali.txt                                        \b\b\b\b 51%\b\b\b\b 52%\b\b\b\b 53%\b\b\b\b\b  OK \n",
            "Extracting  MQ2008/min.txt                                               \b\b\b\b 53%\b\b\b\b 54%\b\b\b\b 55%\b\b\b\b 56%\b\b\b\b 57%\b\b\b\b 58%\b\b\b\b 59%\b\b\b\b 60%\b\b\b\b 61%\b\b\b\b 62%\b\b\b\b 63%\b\b\b\b 64%\b\b\b\b 65%\b\b\b\b 66%\b\b\b\b\b  OK \n",
            "Extracting  MQ2008/NULL.txt                                              \b\b\b\b 66%\b\b\b\b 67%\b\b\b\b 68%\b\b\b\b 69%\b\b\b\b 70%\b\b\b\b 71%\b\b\b\b 72%\b\b\b\b 73%\b\b\b\b 74%\b\b\b\b 75%\b\b\b\b 76%\b\b\b\b 77%\b\b\b\b 78%\b\b\b\b\b  OK \n",
            "Extracting  MQ2008/Querylevelnorm.txt                                    \b\b\b\b 78%\b\b\b\b 79%\b\b\b\b 80%\b\b\b\b 81%\b\b\b\b 82%\b\b\b\b 83%\b\b\b\b 84%\b\b\b\b 85%\b\b\b\b 86%\b\b\b\b 87%\b\b\b\b 88%\b\b\b\b 89%\b\b\b\b\b  OK \n",
            "Extracting  MQ2008/readme.txt                                            \b\b\b\b 89%\b\b\b\b\b  OK \n",
            "Extracting  MQ2008/S1.txt                                                \b\b\b\b 89%\b\b\b\b 90%\b\b\b\b 91%\b\b\b\b\b  OK \n",
            "Extracting  MQ2008/S2.txt                                                \b\b\b\b 91%\b\b\b\b 92%\b\b\b\b 93%\b\b\b\b\b  OK \n",
            "Extracting  MQ2008/S3.txt                                                \b\b\b\b 94%\b\b\b\b 95%\b\b\b\b 96%\b\b\b\b\b  OK \n",
            "Extracting  MQ2008/S4.txt                                                \b\b\b\b 96%\b\b\b\b 97%\b\b\b\b\b  OK \n",
            "Extracting  MQ2008/S5.txt                                                \b\b\b\b 98%\b\b\b\b 99%\b\b\b\b\b  OK \n",
            "All OK\n"
          ],
          "name": "stdout"
        }
      ]
    },
    {
      "cell_type": "code",
      "metadata": {
        "colab": {
          "base_uri": "https://localhost:8080/"
        },
        "id": "uBZr5X8HpWGU",
        "outputId": "3067ffa9-d455-45f9-b48e-d901e49ea0f0"
      },
      "source": [
        "!python \"/content/drive/MyDrive/xgboost-master/demo/rank/rank_sklearn.py\""
      ],
      "execution_count": null,
      "outputs": [
        {
          "output_type": "stream",
          "text": [
            "[0]\teval_0-ndcg:0.821042\n",
            "[1]\teval_0-ndcg:0.826573\n",
            "[2]\teval_0-ndcg:0.831727\n",
            "[3]\teval_0-ndcg:0.832029\n"
          ],
          "name": "stdout"
        }
      ]
    },
    {
      "cell_type": "markdown",
      "metadata": {
        "id": "-d1o1lZyq8uf"
      },
      "source": [
        "# **Fold 3**"
      ]
    },
    {
      "cell_type": "code",
      "metadata": {
        "colab": {
          "base_uri": "https://localhost:8080/"
        },
        "id": "RapqaWewpWDm",
        "outputId": "c6bf916d-1ea5-42ac-d77d-a2e0d8c0ce71"
      },
      "source": [
        "!sh /content/drive/MyDrive/xgboost-master/demo/rank/wgetdata3.sh"
      ],
      "execution_count": null,
      "outputs": [
        {
          "output_type": "stream",
          "text": [
            "Downloading data.\n",
            "--2021-05-12 03:29:00--  https://s3-us-west-2.amazonaws.com/xgboost-examples/MQ2008.rar\n",
            "Resolving s3-us-west-2.amazonaws.com (s3-us-west-2.amazonaws.com)... 52.218.213.120\n",
            "Connecting to s3-us-west-2.amazonaws.com (s3-us-west-2.amazonaws.com)|52.218.213.120|:443... connected.\n",
            "HTTP request sent, awaiting response... 200 OK\n",
            "Length: 15448795 (15M) [application/x-rar-compressed]\n",
            "Saving to: ‘MQ2008.rar’\n",
            "\n",
            "MQ2008.rar          100%[===================>]  14.73M  41.1MB/s    in 0.4s    \n",
            "\n",
            "2021-05-12 03:29:01 (41.1 MB/s) - ‘MQ2008.rar’ saved [15448795/15448795]\n",
            "\n",
            "\n",
            "UNRAR 5.50 freeware      Copyright (c) 1993-2017 Alexander Roshal\n",
            "\n",
            "\n",
            "Extracting from MQ2008.rar\n",
            "\n",
            "Creating    MQ2008                                                    OK\n",
            "Creating    MQ2008/Fold1                                              OK\n",
            "Extracting  MQ2008/Fold1/test.txt                                        \b\b\b\b  0%\b\b\b\b  1%\b\b\b\b  2%\b\b\b\b\b  OK \n",
            "Extracting  MQ2008/Fold1/train.txt                                       \b\b\b\b  2%\b\b\b\b  3%\b\b\b\b  4%\b\b\b\b  5%\b\b\b\b  6%\b\b\b\b  7%\b\b\b\b  8%\b\b\b\b\b  OK \n",
            "Extracting  MQ2008/Fold1/vali.txt                                        \b\b\b\b  9%\b\b\b\b 10%\b\b\b\b\b  OK \n",
            "Creating    MQ2008/Fold2                                              OK\n",
            "Extracting  MQ2008/Fold2/test.txt                                        \b\b\b\b 10%\b\b\b\b 11%\b\b\b\b 12%\b\b\b\b\b  OK \n",
            "Extracting  MQ2008/Fold2/train.txt                                       \b\b\b\b 12%\b\b\b\b 13%\b\b\b\b 14%\b\b\b\b 15%\b\b\b\b 16%\b\b\b\b 17%\b\b\b\b 18%\b\b\b\b 19%\b\b\b\b\b  OK \n",
            "Extracting  MQ2008/Fold2/vali.txt                                        \b\b\b\b 19%\b\b\b\b 20%\b\b\b\b 21%\b\b\b\b\b  OK \n",
            "Creating    MQ2008/Fold3                                              OK\n",
            "Extracting  MQ2008/Fold3/test.txt                                        \b\b\b\b 21%\b\b\b\b 22%\b\b\b\b 23%\b\b\b\b\b  OK \n",
            "Extracting  MQ2008/Fold3/train.txt                                       \b\b\b\b 24%\b\b\b\b 25%\b\b\b\b 26%\b\b\b\b 27%\b\b\b\b 28%\b\b\b\b 29%\b\b\b\b 30%\b\b\b\b\b  OK \n",
            "Extracting  MQ2008/Fold3/vali.txt                                        \b\b\b\b 30%\b\b\b\b 31%\b\b\b\b 32%\b\b\b\b\b  OK \n",
            "Creating    MQ2008/Fold4                                              OK\n",
            "Extracting  MQ2008/Fold4/test.txt                                        \b\b\b\b 32%\b\b\b\b 33%\b\b\b\b 34%\b\b\b\b\b  OK \n",
            "Extracting  MQ2008/Fold4/train.txt                                       \b\b\b\b 34%\b\b\b\b 35%\b\b\b\b 36%\b\b\b\b 37%\b\b\b\b 38%\b\b\b\b 39%\b\b\b\b 40%\b\b\b\b\b  OK \n",
            "Extracting  MQ2008/Fold4/vali.txt                                        \b\b\b\b 40%\b\b\b\b 41%\b\b\b\b 42%\b\b\b\b\b  OK \n",
            "Creating    MQ2008/Fold5                                              OK\n",
            "Extracting  MQ2008/Fold5/test.txt                                        \b\b\b\b 43%\b\b\b\b 44%\b\b\b\b\b  OK \n",
            "Extracting  MQ2008/Fold5/train.txt                                       \b\b\b\b 45%\b\b\b\b 46%\b\b\b\b 47%\b\b\b\b 48%\b\b\b\b 49%\b\b\b\b 50%\b\b\b\b 51%\b\b\b\b\b  OK \n",
            "Extracting  MQ2008/Fold5/vali.txt                                        \b\b\b\b 51%\b\b\b\b 52%\b\b\b\b 53%\b\b\b\b\b  OK \n",
            "Extracting  MQ2008/min.txt                                               \b\b\b\b 53%\b\b\b\b 54%\b\b\b\b 55%\b\b\b\b 56%\b\b\b\b 57%\b\b\b\b 58%\b\b\b\b 59%\b\b\b\b 60%\b\b\b\b 61%\b\b\b\b 62%\b\b\b\b 63%\b\b\b\b 64%\b\b\b\b 65%\b\b\b\b 66%\b\b\b\b\b  OK \n",
            "Extracting  MQ2008/NULL.txt                                              \b\b\b\b 66%\b\b\b\b 67%\b\b\b\b 68%\b\b\b\b 69%\b\b\b\b 70%\b\b\b\b 71%\b\b\b\b 72%\b\b\b\b 73%\b\b\b\b 74%\b\b\b\b 75%\b\b\b\b 76%\b\b\b\b 77%\b\b\b\b 78%\b\b\b\b\b  OK \n",
            "Extracting  MQ2008/Querylevelnorm.txt                                    \b\b\b\b 78%\b\b\b\b 79%\b\b\b\b 80%\b\b\b\b 81%\b\b\b\b 82%\b\b\b\b 83%\b\b\b\b 84%\b\b\b\b 85%\b\b\b\b 86%\b\b\b\b 87%\b\b\b\b 88%\b\b\b\b 89%\b\b\b\b\b  OK \n",
            "Extracting  MQ2008/readme.txt                                            \b\b\b\b 89%\b\b\b\b\b  OK \n",
            "Extracting  MQ2008/S1.txt                                                \b\b\b\b 89%\b\b\b\b 90%\b\b\b\b 91%\b\b\b\b\b  OK \n",
            "Extracting  MQ2008/S2.txt                                                \b\b\b\b 91%\b\b\b\b 92%\b\b\b\b 93%\b\b\b\b\b  OK \n",
            "Extracting  MQ2008/S3.txt                                                \b\b\b\b 94%\b\b\b\b 95%\b\b\b\b 96%\b\b\b\b\b  OK \n",
            "Extracting  MQ2008/S4.txt                                                \b\b\b\b 96%\b\b\b\b 97%\b\b\b\b\b  OK \n",
            "Extracting  MQ2008/S5.txt                                                \b\b\b\b 98%\b\b\b\b 99%\b\b\b\b\b  OK \n",
            "All OK\n"
          ],
          "name": "stdout"
        }
      ]
    },
    {
      "cell_type": "code",
      "metadata": {
        "colab": {
          "base_uri": "https://localhost:8080/"
        },
        "id": "2JX4t3CjpV-J",
        "outputId": "8432cf1f-0eec-4e92-93a4-f27937c74e2b"
      },
      "source": [
        "!python \"/content/drive/MyDrive/xgboost-master/demo/rank/rank_sklearn.py\""
      ],
      "execution_count": null,
      "outputs": [
        {
          "output_type": "stream",
          "text": [
            "[0]\teval_0-ndcg:0.808025\n",
            "[1]\teval_0-ndcg:0.806311\n",
            "[2]\teval_0-ndcg:0.816868\n",
            "[3]\teval_0-ndcg:0.819315\n"
          ],
          "name": "stdout"
        }
      ]
    },
    {
      "cell_type": "markdown",
      "metadata": {
        "id": "jQCBCih8rMZM"
      },
      "source": [
        "# **Fold 4**"
      ]
    },
    {
      "cell_type": "code",
      "metadata": {
        "colab": {
          "base_uri": "https://localhost:8080/"
        },
        "id": "tLeLwI4JpV7v",
        "outputId": "d7d7ffdd-fabf-43c6-81c3-4088baebe7f1"
      },
      "source": [
        "!sh /content/drive/MyDrive/xgboost-master/demo/rank/wgetdata4.sh"
      ],
      "execution_count": null,
      "outputs": [
        {
          "output_type": "stream",
          "text": [
            "Downloading data.\n",
            "--2021-05-14 09:21:49--  https://s3-us-west-2.amazonaws.com/xgboost-examples/MQ2008.rar\n",
            "Resolving s3-us-west-2.amazonaws.com (s3-us-west-2.amazonaws.com)... 52.218.253.168\n",
            "Connecting to s3-us-west-2.amazonaws.com (s3-us-west-2.amazonaws.com)|52.218.253.168|:443... connected.\n",
            "HTTP request sent, awaiting response... 200 OK\n",
            "Length: 15448795 (15M) [application/x-rar-compressed]\n",
            "Saving to: ‘MQ2008.rar’\n",
            "\n",
            "MQ2008.rar          100%[===================>]  14.73M  15.0MB/s    in 1.0s    \n",
            "\n",
            "2021-05-14 09:21:51 (15.0 MB/s) - ‘MQ2008.rar’ saved [15448795/15448795]\n",
            "\n",
            "\n",
            "UNRAR 5.50 freeware      Copyright (c) 1993-2017 Alexander Roshal\n",
            "\n",
            "\n",
            "Extracting from MQ2008.rar\n",
            "\n",
            "Creating    MQ2008                                                    OK\n",
            "Creating    MQ2008/Fold1                                              OK\n",
            "Extracting  MQ2008/Fold1/test.txt                                        \b\b\b\b  0%\b\b\b\b  1%\b\b\b\b  2%\b\b\b\b\b  OK \n",
            "Extracting  MQ2008/Fold1/train.txt                                       \b\b\b\b  2%\b\b\b\b  3%\b\b\b\b  4%\b\b\b\b  5%\b\b\b\b  6%\b\b\b\b  7%\b\b\b\b  8%\b\b\b\b\b  OK \n",
            "Extracting  MQ2008/Fold1/vali.txt                                        \b\b\b\b  9%\b\b\b\b 10%\b\b\b\b\b  OK \n",
            "Creating    MQ2008/Fold2                                              OK\n",
            "Extracting  MQ2008/Fold2/test.txt                                        \b\b\b\b 10%\b\b\b\b 11%\b\b\b\b 12%\b\b\b\b\b  OK \n",
            "Extracting  MQ2008/Fold2/train.txt                                       \b\b\b\b 12%\b\b\b\b 13%\b\b\b\b 14%\b\b\b\b 15%\b\b\b\b 16%\b\b\b\b 17%\b\b\b\b 18%\b\b\b\b 19%\b\b\b\b\b  OK \n",
            "Extracting  MQ2008/Fold2/vali.txt                                        \b\b\b\b 19%\b\b\b\b 20%\b\b\b\b 21%\b\b\b\b\b  OK \n",
            "Creating    MQ2008/Fold3                                              OK\n",
            "Extracting  MQ2008/Fold3/test.txt                                        \b\b\b\b 21%\b\b\b\b 22%\b\b\b\b 23%\b\b\b\b\b  OK \n",
            "Extracting  MQ2008/Fold3/train.txt                                       \b\b\b\b 24%\b\b\b\b 25%\b\b\b\b 26%\b\b\b\b 27%\b\b\b\b 28%\b\b\b\b 29%\b\b\b\b 30%\b\b\b\b\b  OK \n",
            "Extracting  MQ2008/Fold3/vali.txt                                        \b\b\b\b 30%\b\b\b\b 31%\b\b\b\b 32%\b\b\b\b\b  OK \n",
            "Creating    MQ2008/Fold4                                              OK\n",
            "Extracting  MQ2008/Fold4/test.txt                                        \b\b\b\b 32%\b\b\b\b 33%\b\b\b\b 34%\b\b\b\b\b  OK \n",
            "Extracting  MQ2008/Fold4/train.txt                                       \b\b\b\b 34%\b\b\b\b 35%\b\b\b\b 36%\b\b\b\b 37%\b\b\b\b 38%\b\b\b\b 39%\b\b\b\b 40%\b\b\b\b\b  OK \n",
            "Extracting  MQ2008/Fold4/vali.txt                                        \b\b\b\b 40%\b\b\b\b 41%\b\b\b\b 42%\b\b\b\b\b  OK \n",
            "Creating    MQ2008/Fold5                                              OK\n",
            "Extracting  MQ2008/Fold5/test.txt                                        \b\b\b\b 43%\b\b\b\b 44%\b\b\b\b\b  OK \n",
            "Extracting  MQ2008/Fold5/train.txt                                       \b\b\b\b 45%\b\b\b\b 46%\b\b\b\b 47%\b\b\b\b 48%\b\b\b\b 49%\b\b\b\b 50%\b\b\b\b 51%\b\b\b\b\b  OK \n",
            "Extracting  MQ2008/Fold5/vali.txt                                        \b\b\b\b 51%\b\b\b\b 52%\b\b\b\b 53%\b\b\b\b\b  OK \n",
            "Extracting  MQ2008/min.txt                                               \b\b\b\b 53%\b\b\b\b 54%\b\b\b\b 55%\b\b\b\b 56%\b\b\b\b 57%\b\b\b\b 58%\b\b\b\b 59%\b\b\b\b 60%\b\b\b\b 61%\b\b\b\b 62%\b\b\b\b 63%\b\b\b\b 64%\b\b\b\b 65%\b\b\b\b 66%\b\b\b\b\b  OK \n",
            "Extracting  MQ2008/NULL.txt                                              \b\b\b\b 66%\b\b\b\b 67%\b\b\b\b 68%\b\b\b\b 69%\b\b\b\b 70%\b\b\b\b 71%\b\b\b\b 72%\b\b\b\b 73%\b\b\b\b 74%\b\b\b\b 75%\b\b\b\b 76%\b\b\b\b 77%\b\b\b\b 78%\b\b\b\b\b  OK \n",
            "Extracting  MQ2008/Querylevelnorm.txt                                    \b\b\b\b 78%\b\b\b\b 79%\b\b\b\b 80%\b\b\b\b 81%\b\b\b\b 82%\b\b\b\b 83%\b\b\b\b 84%\b\b\b\b 85%\b\b\b\b 86%\b\b\b\b 87%\b\b\b\b 88%\b\b\b\b 89%\b\b\b\b\b  OK \n",
            "Extracting  MQ2008/readme.txt                                            \b\b\b\b 89%\b\b\b\b\b  OK \n",
            "Extracting  MQ2008/S1.txt                                                \b\b\b\b 89%\b\b\b\b 90%\b\b\b\b 91%\b\b\b\b\b  OK \n",
            "Extracting  MQ2008/S2.txt                                                \b\b\b\b 91%\b\b\b\b 92%\b\b\b\b 93%\b\b\b\b\b  OK \n",
            "Extracting  MQ2008/S3.txt                                                \b\b\b\b 94%\b\b\b\b 95%\b\b\b\b 96%\b\b\b\b\b  OK \n",
            "Extracting  MQ2008/S4.txt                                                \b\b\b\b 96%\b\b\b\b 97%\b\b\b\b\b  OK \n",
            "Extracting  MQ2008/S5.txt                                                \b\b\b\b 98%\b\b\b\b 99%\b\b\b\b\b  OK \n",
            "All OK\n"
          ],
          "name": "stdout"
        }
      ]
    },
    {
      "cell_type": "code",
      "metadata": {
        "colab": {
          "base_uri": "https://localhost:8080/"
        },
        "id": "H2UER-9zrSLM",
        "outputId": "8cf4e0e3-ba66-4e75-d67c-2b5853149f7a"
      },
      "source": [
        "!python \"/content/drive/MyDrive/xgboost-master/demo/rank/rank_sklearn.py\""
      ],
      "execution_count": null,
      "outputs": [
        {
          "output_type": "stream",
          "text": [
            "[0]\teval_0-ndcg:0.777406\n",
            "[1]\teval_0-ndcg:0.791057\n",
            "[2]\teval_0-ndcg:0.790832\n",
            "[3]\teval_0-ndcg:0.790213\n"
          ],
          "name": "stdout"
        }
      ]
    },
    {
      "cell_type": "markdown",
      "metadata": {
        "id": "S0pDexYEoEeZ"
      },
      "source": [
        "# **Fold 5**"
      ]
    },
    {
      "cell_type": "code",
      "metadata": {
        "colab": {
          "base_uri": "https://localhost:8080/"
        },
        "id": "UZgGWrTarSIL",
        "outputId": "9d665bb0-610e-465c-bf11-1b67108e91c9"
      },
      "source": [
        "!sh /content/drive/MyDrive/xgboost-master/demo/rank/wgetdata5.sh"
      ],
      "execution_count": null,
      "outputs": [
        {
          "output_type": "stream",
          "text": [
            "Downloading data.\n",
            "--2021-05-14 09:23:37--  https://s3-us-west-2.amazonaws.com/xgboost-examples/MQ2008.rar\n",
            "Resolving s3-us-west-2.amazonaws.com (s3-us-west-2.amazonaws.com)... 52.92.129.144\n",
            "Connecting to s3-us-west-2.amazonaws.com (s3-us-west-2.amazonaws.com)|52.92.129.144|:443... connected.\n",
            "HTTP request sent, awaiting response... 200 OK\n",
            "Length: 15448795 (15M) [application/x-rar-compressed]\n",
            "Saving to: ‘MQ2008.rar’\n",
            "\n",
            "MQ2008.rar          100%[===================>]  14.73M  7.09MB/s    in 2.1s    \n",
            "\n",
            "2021-05-14 09:23:40 (7.09 MB/s) - ‘MQ2008.rar’ saved [15448795/15448795]\n",
            "\n",
            "\n",
            "UNRAR 5.50 freeware      Copyright (c) 1993-2017 Alexander Roshal\n",
            "\n",
            "\n",
            "Extracting from MQ2008.rar\n",
            "\n",
            "Creating    MQ2008                                                    OK\n",
            "Creating    MQ2008/Fold1                                              OK\n",
            "Extracting  MQ2008/Fold1/test.txt                                        \b\b\b\b  0%\b\b\b\b  1%\b\b\b\b  2%\b\b\b\b\b  OK \n",
            "Extracting  MQ2008/Fold1/train.txt                                       \b\b\b\b  2%\b\b\b\b  3%\b\b\b\b  4%\b\b\b\b  5%\b\b\b\b  6%\b\b\b\b  7%\b\b\b\b  8%\b\b\b\b\b  OK \n",
            "Extracting  MQ2008/Fold1/vali.txt                                        \b\b\b\b  9%\b\b\b\b 10%\b\b\b\b\b  OK \n",
            "Creating    MQ2008/Fold2                                              OK\n",
            "Extracting  MQ2008/Fold2/test.txt                                        \b\b\b\b 10%\b\b\b\b 11%\b\b\b\b 12%\b\b\b\b\b  OK \n",
            "Extracting  MQ2008/Fold2/train.txt                                       \b\b\b\b 12%\b\b\b\b 13%\b\b\b\b 14%\b\b\b\b 15%\b\b\b\b 16%\b\b\b\b 17%\b\b\b\b 18%\b\b\b\b 19%\b\b\b\b\b  OK \n",
            "Extracting  MQ2008/Fold2/vali.txt                                        \b\b\b\b 19%\b\b\b\b 20%\b\b\b\b 21%\b\b\b\b\b  OK \n",
            "Creating    MQ2008/Fold3                                              OK\n",
            "Extracting  MQ2008/Fold3/test.txt                                        \b\b\b\b 21%\b\b\b\b 22%\b\b\b\b 23%\b\b\b\b\b  OK \n",
            "Extracting  MQ2008/Fold3/train.txt                                       \b\b\b\b 24%\b\b\b\b 25%\b\b\b\b 26%\b\b\b\b 27%\b\b\b\b 28%\b\b\b\b 29%\b\b\b\b 30%\b\b\b\b\b  OK \n",
            "Extracting  MQ2008/Fold3/vali.txt                                        \b\b\b\b 30%\b\b\b\b 31%\b\b\b\b 32%\b\b\b\b\b  OK \n",
            "Creating    MQ2008/Fold4                                              OK\n",
            "Extracting  MQ2008/Fold4/test.txt                                        \b\b\b\b 32%\b\b\b\b 33%\b\b\b\b 34%\b\b\b\b\b  OK \n",
            "Extracting  MQ2008/Fold4/train.txt                                       \b\b\b\b 34%\b\b\b\b 35%\b\b\b\b 36%\b\b\b\b 37%\b\b\b\b 38%\b\b\b\b 39%\b\b\b\b 40%\b\b\b\b\b  OK \n",
            "Extracting  MQ2008/Fold4/vali.txt                                        \b\b\b\b 40%\b\b\b\b 41%\b\b\b\b 42%\b\b\b\b\b  OK \n",
            "Creating    MQ2008/Fold5                                              OK\n",
            "Extracting  MQ2008/Fold5/test.txt                                        \b\b\b\b 43%\b\b\b\b 44%\b\b\b\b\b  OK \n",
            "Extracting  MQ2008/Fold5/train.txt                                       \b\b\b\b 45%\b\b\b\b 46%\b\b\b\b 47%\b\b\b\b 48%\b\b\b\b 49%\b\b\b\b 50%\b\b\b\b 51%\b\b\b\b\b  OK \n",
            "Extracting  MQ2008/Fold5/vali.txt                                        \b\b\b\b 51%\b\b\b\b 52%\b\b\b\b 53%\b\b\b\b\b  OK \n",
            "Extracting  MQ2008/min.txt                                               \b\b\b\b 53%\b\b\b\b 54%\b\b\b\b 55%\b\b\b\b 56%\b\b\b\b 57%\b\b\b\b 58%\b\b\b\b 59%\b\b\b\b 60%\b\b\b\b 61%\b\b\b\b 62%\b\b\b\b 63%\b\b\b\b 64%\b\b\b\b 65%\b\b\b\b 66%\b\b\b\b\b  OK \n",
            "Extracting  MQ2008/NULL.txt                                              \b\b\b\b 66%\b\b\b\b 67%\b\b\b\b 68%\b\b\b\b 69%\b\b\b\b 70%\b\b\b\b 71%\b\b\b\b 72%\b\b\b\b 73%\b\b\b\b 74%\b\b\b\b 75%\b\b\b\b 76%\b\b\b\b 77%\b\b\b\b 78%\b\b\b\b\b  OK \n",
            "Extracting  MQ2008/Querylevelnorm.txt                                    \b\b\b\b 78%\b\b\b\b 79%\b\b\b\b 80%\b\b\b\b 81%\b\b\b\b 82%\b\b\b\b 83%\b\b\b\b 84%\b\b\b\b 85%\b\b\b\b 86%\b\b\b\b 87%\b\b\b\b 88%\b\b\b\b 89%\b\b\b\b\b  OK \n",
            "Extracting  MQ2008/readme.txt                                            \b\b\b\b 89%\b\b\b\b\b  OK \n",
            "Extracting  MQ2008/S1.txt                                                \b\b\b\b 89%\b\b\b\b 90%\b\b\b\b 91%\b\b\b\b\b  OK \n",
            "Extracting  MQ2008/S2.txt                                                \b\b\b\b 91%\b\b\b\b 92%\b\b\b\b 93%\b\b\b\b\b  OK \n",
            "Extracting  MQ2008/S3.txt                                                \b\b\b\b 94%\b\b\b\b 95%\b\b\b\b 96%\b\b\b\b\b  OK \n",
            "Extracting  MQ2008/S4.txt                                                \b\b\b\b 96%\b\b\b\b 97%\b\b\b\b\b  OK \n",
            "Extracting  MQ2008/S5.txt                                                \b\b\b\b 98%\b\b\b\b 99%\b\b\b\b\b  OK \n",
            "All OK\n"
          ],
          "name": "stdout"
        }
      ]
    },
    {
      "cell_type": "code",
      "metadata": {
        "colab": {
          "base_uri": "https://localhost:8080/"
        },
        "id": "y3w0n5aYoNYO",
        "outputId": "6215355c-d7ec-48dd-b2e3-d3fe41663893"
      },
      "source": [
        "!python \"/content/drive/MyDrive/xgboost-master/demo/rank/rank_sklearn.py\""
      ],
      "execution_count": null,
      "outputs": [
        {
          "output_type": "stream",
          "text": [
            "[0]\teval_0-ndcg:0.790501\n",
            "[1]\teval_0-ndcg:0.798573\n",
            "[2]\teval_0-ndcg:0.804969\n",
            "[3]\teval_0-ndcg:0.809962\n"
          ],
          "name": "stdout"
        }
      ]
    }
  ]
}