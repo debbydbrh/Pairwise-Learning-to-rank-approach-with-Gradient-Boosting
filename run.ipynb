{
  "nbformat": 4,
  "nbformat_minor": 0,
  "metadata": {
    "colab": {
      "name": "run.ipynb",
      "provenance": [],
      "collapsed_sections": []
    },
    "kernelspec": {
      "name": "python3",
      "display_name": "Python 3"
    },
    "language_info": {
      "name": "python"
    }
  },
  "cells": [
    {
      "cell_type": "markdown",
      "metadata": {
        "id": "Mez5hNs0ncyi"
      },
      "source": [
        "# **Fold 1**"
      ]
    },
    {
      "cell_type": "code",
      "metadata": {
        "colab": {
          "base_uri": "https://localhost:8080/"
        },
        "id": "bwiA6tAmnHdS",
        "outputId": "93f26a9d-5c09-4554-c92f-a11878ac3048"
      },
      "source": [
        "from google.colab import drive\n",
        "drive.mount('/content/drive')"
      ],
      "execution_count": 1,
      "outputs": [
        {
          "output_type": "stream",
          "text": [
            "Mounted at /content/drive\n"
          ],
          "name": "stdout"
        }
      ]
    },
    {
      "cell_type": "code",
      "metadata": {
        "colab": {
          "base_uri": "https://localhost:8080/"
        },
        "id": "kq94BQyCnq6H",
        "outputId": "b13e94e3-7bd4-466d-e6b2-fc7ad4928311"
      },
      "source": [
        "!sh /content/drive/MyDrive/xgboost-master/demo/rank/wgetdata.sh"
      ],
      "execution_count": 3,
      "outputs": [
        {
          "output_type": "stream",
          "text": [
            "Downloading data.\n",
            "--2021-05-20 02:33:41--  https://s3-us-west-2.amazonaws.com/xgboost-examples/MQ2008.rar\n",
            "Resolving s3-us-west-2.amazonaws.com (s3-us-west-2.amazonaws.com)... 52.218.133.168\n",
            "Connecting to s3-us-west-2.amazonaws.com (s3-us-west-2.amazonaws.com)|52.218.133.168|:443... connected.\n",
            "HTTP request sent, awaiting response... 200 OK\n",
            "Length: 15448795 (15M) [application/x-rar-compressed]\n",
            "Saving to: ‘MQ2008.rar’\n",
            "\n",
            "MQ2008.rar          100%[===================>]  14.73M  9.07MB/s    in 1.6s    \n",
            "\n",
            "2021-05-20 02:33:43 (9.07 MB/s) - ‘MQ2008.rar’ saved [15448795/15448795]\n",
            "\n",
            "\n",
            "UNRAR 5.50 freeware      Copyright (c) 1993-2017 Alexander Roshal\n",
            "\n",
            "\n",
            "Extracting from MQ2008.rar\n",
            "\n",
            "Creating    MQ2008                                                    OK\n",
            "Creating    MQ2008/Fold1                                              OK\n",
            "Extracting  MQ2008/Fold1/test.txt                                        \b\b\b\b  0%\b\b\b\b  1%\b\b\b\b  2%\b\b\b\b\b  OK \n",
            "Extracting  MQ2008/Fold1/train.txt                                       \b\b\b\b  2%\b\b\b\b  3%\b\b\b\b  4%\b\b\b\b  5%\b\b\b\b  6%\b\b\b\b  7%\b\b\b\b  8%\b\b\b\b\b  OK \n",
            "Extracting  MQ2008/Fold1/vali.txt                                        \b\b\b\b  9%\b\b\b\b 10%\b\b\b\b\b  OK \n",
            "Creating    MQ2008/Fold2                                              OK\n",
            "Extracting  MQ2008/Fold2/test.txt                                        \b\b\b\b 10%\b\b\b\b 11%\b\b\b\b 12%\b\b\b\b\b  OK \n",
            "Extracting  MQ2008/Fold2/train.txt                                       \b\b\b\b 12%\b\b\b\b 13%\b\b\b\b 14%\b\b\b\b 15%\b\b\b\b 16%\b\b\b\b 17%\b\b\b\b 18%\b\b\b\b 19%\b\b\b\b\b  OK \n",
            "Extracting  MQ2008/Fold2/vali.txt                                        \b\b\b\b 19%\b\b\b\b 20%\b\b\b\b 21%\b\b\b\b\b  OK \n",
            "Creating    MQ2008/Fold3                                              OK\n",
            "Extracting  MQ2008/Fold3/test.txt                                        \b\b\b\b 21%\b\b\b\b 22%\b\b\b\b 23%\b\b\b\b\b  OK \n",
            "Extracting  MQ2008/Fold3/train.txt                                       \b\b\b\b 24%\b\b\b\b 25%\b\b\b\b 26%\b\b\b\b 27%\b\b\b\b 28%\b\b\b\b 29%\b\b\b\b 30%\b\b\b\b\b  OK \n",
            "Extracting  MQ2008/Fold3/vali.txt                                        \b\b\b\b 30%\b\b\b\b 31%\b\b\b\b 32%\b\b\b\b\b  OK \n",
            "Creating    MQ2008/Fold4                                              OK\n",
            "Extracting  MQ2008/Fold4/test.txt                                        \b\b\b\b 32%\b\b\b\b 33%\b\b\b\b 34%\b\b\b\b\b  OK \n",
            "Extracting  MQ2008/Fold4/train.txt                                       \b\b\b\b 34%\b\b\b\b 35%\b\b\b\b 36%\b\b\b\b 37%\b\b\b\b 38%\b\b\b\b 39%\b\b\b\b 40%\b\b\b\b\b  OK \n",
            "Extracting  MQ2008/Fold4/vali.txt                                        \b\b\b\b 40%\b\b\b\b 41%\b\b\b\b 42%\b\b\b\b\b  OK \n",
            "Creating    MQ2008/Fold5                                              OK\n",
            "Extracting  MQ2008/Fold5/test.txt                                        \b\b\b\b 43%\b\b\b\b 44%\b\b\b\b\b  OK \n",
            "Extracting  MQ2008/Fold5/train.txt                                       \b\b\b\b 45%\b\b\b\b 46%\b\b\b\b 47%\b\b\b\b 48%\b\b\b\b 49%\b\b\b\b 50%\b\b\b\b 51%\b\b\b\b\b  OK \n",
            "Extracting  MQ2008/Fold5/vali.txt                                        \b\b\b\b 51%\b\b\b\b 52%\b\b\b\b 53%\b\b\b\b\b  OK \n",
            "Extracting  MQ2008/min.txt                                               \b\b\b\b 53%\b\b\b\b 54%\b\b\b\b 55%\b\b\b\b 56%\b\b\b\b 57%\b\b\b\b 58%\b\b\b\b 59%\b\b\b\b 60%\b\b\b\b 61%\b\b\b\b 62%\b\b\b\b 63%\b\b\b\b 64%\b\b\b\b 65%\b\b\b\b 66%\b\b\b\b\b  OK \n",
            "Extracting  MQ2008/NULL.txt                                              \b\b\b\b 66%\b\b\b\b 67%\b\b\b\b 68%\b\b\b\b 69%\b\b\b\b 70%\b\b\b\b 71%\b\b\b\b 72%\b\b\b\b 73%\b\b\b\b 74%\b\b\b\b 75%\b\b\b\b 76%\b\b\b\b 77%\b\b\b\b 78%\b\b\b\b\b  OK \n",
            "Extracting  MQ2008/Querylevelnorm.txt                                    \b\b\b\b 78%\b\b\b\b 79%\b\b\b\b 80%\b\b\b\b 81%\b\b\b\b 82%\b\b\b\b 83%\b\b\b\b 84%\b\b\b\b 85%\b\b\b\b 86%\b\b\b\b 87%\b\b\b\b 88%\b\b\b\b 89%\b\b\b\b\b  OK \n",
            "Extracting  MQ2008/readme.txt                                            \b\b\b\b 89%\b\b\b\b\b  OK \n",
            "Extracting  MQ2008/S1.txt                                                \b\b\b\b 89%\b\b\b\b 90%\b\b\b\b 91%\b\b\b\b\b  OK \n",
            "Extracting  MQ2008/S2.txt                                                \b\b\b\b 91%\b\b\b\b 92%\b\b\b\b 93%\b\b\b\b\b  OK \n",
            "Extracting  MQ2008/S3.txt                                                \b\b\b\b 94%\b\b\b\b 95%\b\b\b\b 96%\b\b\b\b\b  OK \n",
            "Extracting  MQ2008/S4.txt                                                \b\b\b\b 96%\b\b\b\b 97%\b\b\b\b\b  OK \n",
            "Extracting  MQ2008/S5.txt                                                \b\b\b\b 98%\b\b\b\b 99%\b\b\b\b\b  OK \n",
            "All OK\n"
          ],
          "name": "stdout"
        }
      ]
    },
    {
      "cell_type": "code",
      "metadata": {
        "id": "Lx1EzS2EnrG6"
      },
      "source": [
        "#!/usr/bin/python\n",
        "import xgboost as xgb\n",
        "from sklearn.datasets import load_svmlight_file"
      ],
      "execution_count": 2,
      "outputs": []
    },
    {
      "cell_type": "code",
      "metadata": {
        "id": "p354HOzTnqyP"
      },
      "source": [
        "#  This script demonstrate how to do ranking with XGBRanker\n",
        "x_train, y_train = load_svmlight_file(\"mq2008.train\")\n",
        "x_valid, y_valid = load_svmlight_file(\"mq2008.vali\")\n",
        "x_test, y_test = load_svmlight_file(\"mq2008.test\")"
      ],
      "execution_count": 4,
      "outputs": []
    },
    {
      "cell_type": "code",
      "metadata": {
        "id": "9n1xwCF9nqvK"
      },
      "source": [
        "group_train = []\n",
        "with open(\"mq2008.train.group\", \"r\") as f:\n",
        "    data = f.readlines()\n",
        "    for line in data:\n",
        "        group_train.append(int(line.split(\"\\n\")[0]))\n",
        "\n",
        "group_valid = []\n",
        "with open(\"mq2008.vali.group\", \"r\") as f:\n",
        "    data = f.readlines()\n",
        "    for line in data:\n",
        "        group_valid.append(int(line.split(\"\\n\")[0]))\n",
        "\n",
        "group_test = []\n",
        "with open(\"mq2008.test.group\", \"r\") as f:\n",
        "    data = f.readlines()\n",
        "    for line in data:\n",
        "        group_test.append(int(line.split(\"\\n\")[0]))"
      ],
      "execution_count": 5,
      "outputs": []
    },
    {
      "cell_type": "code",
      "metadata": {
        "id": "qTvkkyyQnqr0"
      },
      "source": [
        "params = {'objective': 'rank:pairwise', 'eval_metric': 'ndcg', 'learning_rate': 0.1,\n",
        "          'gamma': 1.0, 'min_child_weight': 0.1,\n",
        "          'max_depth': 6, 'n_estimators': 4}"
      ],
      "execution_count": 6,
      "outputs": []
    },
    {
      "cell_type": "code",
      "metadata": {
        "colab": {
          "base_uri": "https://localhost:8080/"
        },
        "id": "O5DHWi00nqoH",
        "outputId": "2c2c4496-4ddd-43dc-fbeb-bbdc4315ff18"
      },
      "source": [
        "model = xgb.sklearn.XGBRanker(**params)\n",
        "model.fit(x_train, y_train, group_train, verbose=True,\n",
        "          eval_set=[(x_valid, y_valid)], eval_group=[group_valid])"
      ],
      "execution_count": 8,
      "outputs": [
        {
          "output_type": "stream",
          "text": [
            "[0]\teval_0-ndcg:0.793475\n",
            "[1]\teval_0-ndcg:0.79652\n",
            "[2]\teval_0-ndcg:0.808798\n",
            "[3]\teval_0-ndcg:0.807923\n"
          ],
          "name": "stdout"
        },
        {
          "output_type": "execute_result",
          "data": {
            "text/plain": [
              "XGBRanker(base_score=0.5, booster='gbtree', colsample_bylevel=1,\n",
              "          colsample_bynode=1, colsample_bytree=1, eval_metric='ndcg', gamma=1.0,\n",
              "          learning_rate=0.1, max_delta_step=0, max_depth=6,\n",
              "          min_child_weight=0.1, missing=None, n_estimators=4, n_jobs=-1,\n",
              "          nthread=None, objective='rank:pairwise', random_state=0, reg_alpha=0,\n",
              "          reg_lambda=1, scale_pos_weight=1, seed=None, silent=None, subsample=1,\n",
              "          verbosity=1)"
            ]
          },
          "metadata": {
            "tags": []
          },
          "execution_count": 8
        }
      ]
    },
    {
      "cell_type": "code",
      "metadata": {
        "colab": {
          "base_uri": "https://localhost:8080/"
        },
        "id": "u9Qtn6fvnqka",
        "outputId": "05eeb302-1937-4ad6-93cb-c22c51975276"
      },
      "source": [
        "pred = model.predict(x_test)\n",
        "pred"
      ],
      "execution_count": 9,
      "outputs": [
        {
          "output_type": "execute_result",
          "data": {
            "text/plain": [
              "array([0.78357065, 0.16863465, 0.7119303 , ..., 0.49396828, 0.67378294,\n",
              "       0.28961205], dtype=float32)"
            ]
          },
          "metadata": {
            "tags": []
          },
          "execution_count": 9
        }
      ]
    },
    {
      "cell_type": "markdown",
      "metadata": {
        "id": "9YxsEIb6m_-k"
      },
      "source": [
        "# **Fold 2**"
      ]
    },
    {
      "cell_type": "code",
      "metadata": {
        "colab": {
          "base_uri": "https://localhost:8080/"
        },
        "id": "YiFK817qjDHw",
        "outputId": "c0a28247-d6f2-452a-f3ba-91f287f18af2"
      },
      "source": [
        "from google.colab import drive\n",
        "drive.mount('/content/drive')"
      ],
      "execution_count": 1,
      "outputs": [
        {
          "output_type": "stream",
          "text": [
            "Mounted at /content/drive\n"
          ],
          "name": "stdout"
        }
      ]
    },
    {
      "cell_type": "code",
      "metadata": {
        "colab": {
          "base_uri": "https://localhost:8080/"
        },
        "id": "2QSy64LFjrby",
        "outputId": "027814ef-2493-450f-8a51-2528b0c279df"
      },
      "source": [
        "!sh /content/drive/MyDrive/xgboost-master/demo/rank/wgetdata2.sh"
      ],
      "execution_count": 3,
      "outputs": [
        {
          "output_type": "stream",
          "text": [
            "Downloading data.\n",
            "--2021-05-20 02:16:36--  https://s3-us-west-2.amazonaws.com/xgboost-examples/MQ2008.rar\n",
            "Resolving s3-us-west-2.amazonaws.com (s3-us-west-2.amazonaws.com)... 52.218.178.80\n",
            "Connecting to s3-us-west-2.amazonaws.com (s3-us-west-2.amazonaws.com)|52.218.178.80|:443... connected.\n",
            "HTTP request sent, awaiting response... 200 OK\n",
            "Length: 15448795 (15M) [application/x-rar-compressed]\n",
            "Saving to: ‘MQ2008.rar’\n",
            "\n",
            "MQ2008.rar          100%[===================>]  14.73M  9.07MB/s    in 1.6s    \n",
            "\n",
            "2021-05-20 02:16:38 (9.07 MB/s) - ‘MQ2008.rar’ saved [15448795/15448795]\n",
            "\n",
            "\n",
            "UNRAR 5.50 freeware      Copyright (c) 1993-2017 Alexander Roshal\n",
            "\n",
            "\n",
            "Extracting from MQ2008.rar\n",
            "\n",
            "Creating    MQ2008                                                    OK\n",
            "Creating    MQ2008/Fold1                                              OK\n",
            "Extracting  MQ2008/Fold1/test.txt                                        \b\b\b\b  0%\b\b\b\b  1%\b\b\b\b  2%\b\b\b\b\b  OK \n",
            "Extracting  MQ2008/Fold1/train.txt                                       \b\b\b\b  2%\b\b\b\b  3%\b\b\b\b  4%\b\b\b\b  5%\b\b\b\b  6%\b\b\b\b  7%\b\b\b\b  8%\b\b\b\b\b  OK \n",
            "Extracting  MQ2008/Fold1/vali.txt                                        \b\b\b\b  9%\b\b\b\b 10%\b\b\b\b\b  OK \n",
            "Creating    MQ2008/Fold2                                              OK\n",
            "Extracting  MQ2008/Fold2/test.txt                                        \b\b\b\b 10%\b\b\b\b 11%\b\b\b\b 12%\b\b\b\b\b  OK \n",
            "Extracting  MQ2008/Fold2/train.txt                                       \b\b\b\b 12%\b\b\b\b 13%\b\b\b\b 14%\b\b\b\b 15%\b\b\b\b 16%\b\b\b\b 17%\b\b\b\b 18%\b\b\b\b 19%\b\b\b\b\b  OK \n",
            "Extracting  MQ2008/Fold2/vali.txt                                        \b\b\b\b 19%\b\b\b\b 20%\b\b\b\b 21%\b\b\b\b\b  OK \n",
            "Creating    MQ2008/Fold3                                              OK\n",
            "Extracting  MQ2008/Fold3/test.txt                                        \b\b\b\b 21%\b\b\b\b 22%\b\b\b\b 23%\b\b\b\b\b  OK \n",
            "Extracting  MQ2008/Fold3/train.txt                                       \b\b\b\b 24%\b\b\b\b 25%\b\b\b\b 26%\b\b\b\b 27%\b\b\b\b 28%\b\b\b\b 29%\b\b\b\b 30%\b\b\b\b\b  OK \n",
            "Extracting  MQ2008/Fold3/vali.txt                                        \b\b\b\b 30%\b\b\b\b 31%\b\b\b\b 32%\b\b\b\b\b  OK \n",
            "Creating    MQ2008/Fold4                                              OK\n",
            "Extracting  MQ2008/Fold4/test.txt                                        \b\b\b\b 32%\b\b\b\b 33%\b\b\b\b 34%\b\b\b\b\b  OK \n",
            "Extracting  MQ2008/Fold4/train.txt                                       \b\b\b\b 34%\b\b\b\b 35%\b\b\b\b 36%\b\b\b\b 37%\b\b\b\b 38%\b\b\b\b 39%\b\b\b\b 40%\b\b\b\b\b  OK \n",
            "Extracting  MQ2008/Fold4/vali.txt                                        \b\b\b\b 40%\b\b\b\b 41%\b\b\b\b 42%\b\b\b\b\b  OK \n",
            "Creating    MQ2008/Fold5                                              OK\n",
            "Extracting  MQ2008/Fold5/test.txt                                        \b\b\b\b 43%\b\b\b\b 44%\b\b\b\b\b  OK \n",
            "Extracting  MQ2008/Fold5/train.txt                                       \b\b\b\b 45%\b\b\b\b 46%\b\b\b\b 47%\b\b\b\b 48%\b\b\b\b 49%\b\b\b\b 50%\b\b\b\b 51%\b\b\b\b\b  OK \n",
            "Extracting  MQ2008/Fold5/vali.txt                                        \b\b\b\b 51%\b\b\b\b 52%\b\b\b\b 53%\b\b\b\b\b  OK \n",
            "Extracting  MQ2008/min.txt                                               \b\b\b\b 53%\b\b\b\b 54%\b\b\b\b 55%\b\b\b\b 56%\b\b\b\b 57%\b\b\b\b 58%\b\b\b\b 59%\b\b\b\b 60%\b\b\b\b 61%\b\b\b\b 62%\b\b\b\b 63%\b\b\b\b 64%\b\b\b\b 65%\b\b\b\b 66%\b\b\b\b\b  OK \n",
            "Extracting  MQ2008/NULL.txt                                              \b\b\b\b 66%\b\b\b\b 67%\b\b\b\b 68%\b\b\b\b 69%\b\b\b\b 70%\b\b\b\b 71%\b\b\b\b 72%\b\b\b\b 73%\b\b\b\b 74%\b\b\b\b 75%\b\b\b\b 76%\b\b\b\b 77%\b\b\b\b 78%\b\b\b\b\b  OK \n",
            "Extracting  MQ2008/Querylevelnorm.txt                                    \b\b\b\b 78%\b\b\b\b 79%\b\b\b\b 80%\b\b\b\b 81%\b\b\b\b 82%\b\b\b\b 83%\b\b\b\b 84%\b\b\b\b 85%\b\b\b\b 86%\b\b\b\b 87%\b\b\b\b 88%\b\b\b\b 89%\b\b\b\b\b  OK \n",
            "Extracting  MQ2008/readme.txt                                            \b\b\b\b 89%\b\b\b\b\b  OK \n",
            "Extracting  MQ2008/S1.txt                                                \b\b\b\b 89%\b\b\b\b 90%\b\b\b\b 91%\b\b\b\b\b  OK \n",
            "Extracting  MQ2008/S2.txt                                                \b\b\b\b 91%\b\b\b\b 92%\b\b\b\b 93%\b\b\b\b\b  OK \n",
            "Extracting  MQ2008/S3.txt                                                \b\b\b\b 94%\b\b\b\b 95%\b\b\b\b 96%\b\b\b\b\b  OK \n",
            "Extracting  MQ2008/S4.txt                                                \b\b\b\b 96%\b\b\b\b 97%\b\b\b\b\b  OK \n",
            "Extracting  MQ2008/S5.txt                                                \b\b\b\b 98%\b\b\b\b 99%\b\b\b\b\b  OK \n",
            "All OK\n"
          ],
          "name": "stdout"
        }
      ]
    },
    {
      "cell_type": "code",
      "metadata": {
        "id": "igBmo1ozjEXn"
      },
      "source": [
        "#!/usr/bin/python\n",
        "import xgboost as xgb\n",
        "from sklearn.datasets import load_svmlight_file"
      ],
      "execution_count": 2,
      "outputs": []
    },
    {
      "cell_type": "code",
      "metadata": {
        "id": "W93ENg47j3Ql"
      },
      "source": [
        "#  This script demonstrate how to do ranking with XGBRanker\n",
        "x_train, y_train = load_svmlight_file(\"mq2008.train\")\n",
        "x_valid, y_valid = load_svmlight_file(\"mq2008.vali\")\n",
        "x_test, y_test = load_svmlight_file(\"mq2008.test\")"
      ],
      "execution_count": 4,
      "outputs": []
    },
    {
      "cell_type": "code",
      "metadata": {
        "id": "HgUsJ4HAj9mt"
      },
      "source": [
        "group_train = []\n",
        "with open(\"mq2008.train.group\", \"r\") as f:\n",
        "    data = f.readlines()\n",
        "    for line in data:\n",
        "        group_train.append(int(line.split(\"\\n\")[0]))\n",
        "\n",
        "group_valid = []\n",
        "with open(\"mq2008.vali.group\", \"r\") as f:\n",
        "    data = f.readlines()\n",
        "    for line in data:\n",
        "        group_valid.append(int(line.split(\"\\n\")[0]))\n",
        "\n",
        "group_test = []\n",
        "with open(\"mq2008.test.group\", \"r\") as f:\n",
        "    data = f.readlines()\n",
        "    for line in data:\n",
        "        group_test.append(int(line.split(\"\\n\")[0]))"
      ],
      "execution_count": 6,
      "outputs": []
    },
    {
      "cell_type": "code",
      "metadata": {
        "id": "d0mo_Npsj_cf"
      },
      "source": [
        "params = {'objective': 'rank:pairwise', 'eval_metric': 'ndcg', 'learning_rate': 0.1,\n",
        "          'gamma': 1.0, 'min_child_weight': 0.1,\n",
        "          'max_depth': 6, 'n_estimators': 4}"
      ],
      "execution_count": 7,
      "outputs": []
    },
    {
      "cell_type": "code",
      "metadata": {
        "id": "CLJMUU07kI2G"
      },
      "source": [
        "model = xgb.sklearn.XGBRanker(**params)"
      ],
      "execution_count": 8,
      "outputs": []
    },
    {
      "cell_type": "code",
      "metadata": {
        "colab": {
          "base_uri": "https://localhost:8080/"
        },
        "id": "Hy35rvypknUy",
        "outputId": "bab68fc4-a739-4773-bb02-f213ce53ccf9"
      },
      "source": [
        "model.fit(x_train, y_train, group_train, verbose=True,\n",
        "          eval_set=[(x_valid, y_valid)], eval_group=[group_valid])"
      ],
      "execution_count": 11,
      "outputs": [
        {
          "output_type": "stream",
          "text": [
            "[0]\teval_0-ndcg:0.821042\n",
            "[1]\teval_0-ndcg:0.826573\n",
            "[2]\teval_0-ndcg:0.831727\n",
            "[3]\teval_0-ndcg:0.832029\n"
          ],
          "name": "stdout"
        },
        {
          "output_type": "execute_result",
          "data": {
            "text/plain": [
              "XGBRanker(base_score=0.5, booster='gbtree', colsample_bylevel=1,\n",
              "          colsample_bynode=1, colsample_bytree=1, eval_metric='ndcg', gamma=1.0,\n",
              "          learning_rate=0.1, max_delta_step=0, max_depth=6,\n",
              "          min_child_weight=0.1, missing=None, n_estimators=4, n_jobs=-1,\n",
              "          nthread=None, objective='rank:pairwise', random_state=0, reg_alpha=0,\n",
              "          reg_lambda=1, scale_pos_weight=1, seed=None, silent=None, subsample=1,\n",
              "          verbosity=1)"
            ]
          },
          "metadata": {
            "tags": []
          },
          "execution_count": 11
        }
      ]
    },
    {
      "cell_type": "code",
      "metadata": {
        "id": "F9O043EdkNwX"
      },
      "source": [
        "pred = model.predict(x_test)"
      ],
      "execution_count": 12,
      "outputs": []
    },
    {
      "cell_type": "code",
      "metadata": {
        "colab": {
          "base_uri": "https://localhost:8080/"
        },
        "id": "PDhkP-iIkPyY",
        "outputId": "db50d2e4-ee62-4357-c6a3-a607a2db715f"
      },
      "source": [
        "pred"
      ],
      "execution_count": 13,
      "outputs": [
        {
          "output_type": "execute_result",
          "data": {
            "text/plain": [
              "array([0.383533  , 0.2805527 , 0.4955027 , ..., 0.5204767 , 0.20837173,\n",
              "       0.66961926], dtype=float32)"
            ]
          },
          "metadata": {
            "tags": []
          },
          "execution_count": 13
        }
      ]
    },
    {
      "cell_type": "markdown",
      "metadata": {
        "id": "2WtNwBsUoTmX"
      },
      "source": [
        "# **Fold 3**"
      ]
    },
    {
      "cell_type": "code",
      "metadata": {
        "colab": {
          "base_uri": "https://localhost:8080/"
        },
        "id": "NxCmUbavosSw",
        "outputId": "8919ed38-cf0a-4d17-f74d-eca3bbea82b2"
      },
      "source": [
        "from google.colab import drive\n",
        "drive.mount('/content/drive')"
      ],
      "execution_count": 1,
      "outputs": [
        {
          "output_type": "stream",
          "text": [
            "Mounted at /content/drive\n"
          ],
          "name": "stdout"
        }
      ]
    },
    {
      "cell_type": "code",
      "metadata": {
        "colab": {
          "base_uri": "https://localhost:8080/"
        },
        "id": "f_Fsep-3o9Lm",
        "outputId": "e5858068-b83e-434e-fb75-f84cb3b312cc"
      },
      "source": [
        "!sh /content/drive/MyDrive/xgboost-master/demo/rank/wgetdata3.sh"
      ],
      "execution_count": 3,
      "outputs": [
        {
          "output_type": "stream",
          "text": [
            "Downloading data.\n",
            "--2021-05-20 02:42:45--  https://s3-us-west-2.amazonaws.com/xgboost-examples/MQ2008.rar\n",
            "Resolving s3-us-west-2.amazonaws.com (s3-us-west-2.amazonaws.com)... 52.218.244.8\n",
            "Connecting to s3-us-west-2.amazonaws.com (s3-us-west-2.amazonaws.com)|52.218.244.8|:443... connected.\n",
            "HTTP request sent, awaiting response... 200 OK\n",
            "Length: 15448795 (15M) [application/x-rar-compressed]\n",
            "Saving to: ‘MQ2008.rar’\n",
            "\n",
            "MQ2008.rar          100%[===================>]  14.73M  7.70MB/s    in 1.9s    \n",
            "\n",
            "2021-05-20 02:42:47 (7.70 MB/s) - ‘MQ2008.rar’ saved [15448795/15448795]\n",
            "\n",
            "\n",
            "UNRAR 5.50 freeware      Copyright (c) 1993-2017 Alexander Roshal\n",
            "\n",
            "\n",
            "Extracting from MQ2008.rar\n",
            "\n",
            "Creating    MQ2008                                                    OK\n",
            "Creating    MQ2008/Fold1                                              OK\n",
            "Extracting  MQ2008/Fold1/test.txt                                        \b\b\b\b  0%\b\b\b\b  1%\b\b\b\b  2%\b\b\b\b\b  OK \n",
            "Extracting  MQ2008/Fold1/train.txt                                       \b\b\b\b  2%\b\b\b\b  3%\b\b\b\b  4%\b\b\b\b  5%\b\b\b\b  6%\b\b\b\b  7%\b\b\b\b  8%\b\b\b\b\b  OK \n",
            "Extracting  MQ2008/Fold1/vali.txt                                        \b\b\b\b  9%\b\b\b\b 10%\b\b\b\b\b  OK \n",
            "Creating    MQ2008/Fold2                                              OK\n",
            "Extracting  MQ2008/Fold2/test.txt                                        \b\b\b\b 10%\b\b\b\b 11%\b\b\b\b 12%\b\b\b\b\b  OK \n",
            "Extracting  MQ2008/Fold2/train.txt                                       \b\b\b\b 12%\b\b\b\b 13%\b\b\b\b 14%\b\b\b\b 15%\b\b\b\b 16%\b\b\b\b 17%\b\b\b\b 18%\b\b\b\b 19%\b\b\b\b\b  OK \n",
            "Extracting  MQ2008/Fold2/vali.txt                                        \b\b\b\b 19%\b\b\b\b 20%\b\b\b\b 21%\b\b\b\b\b  OK \n",
            "Creating    MQ2008/Fold3                                              OK\n",
            "Extracting  MQ2008/Fold3/test.txt                                        \b\b\b\b 21%\b\b\b\b 22%\b\b\b\b 23%\b\b\b\b\b  OK \n",
            "Extracting  MQ2008/Fold3/train.txt                                       \b\b\b\b 24%\b\b\b\b 25%\b\b\b\b 26%\b\b\b\b 27%\b\b\b\b 28%\b\b\b\b 29%\b\b\b\b 30%\b\b\b\b\b  OK \n",
            "Extracting  MQ2008/Fold3/vali.txt                                        \b\b\b\b 30%\b\b\b\b 31%\b\b\b\b 32%\b\b\b\b\b  OK \n",
            "Creating    MQ2008/Fold4                                              OK\n",
            "Extracting  MQ2008/Fold4/test.txt                                        \b\b\b\b 32%\b\b\b\b 33%\b\b\b\b 34%\b\b\b\b\b  OK \n",
            "Extracting  MQ2008/Fold4/train.txt                                       \b\b\b\b 34%\b\b\b\b 35%\b\b\b\b 36%\b\b\b\b 37%\b\b\b\b 38%\b\b\b\b 39%\b\b\b\b 40%\b\b\b\b\b  OK \n",
            "Extracting  MQ2008/Fold4/vali.txt                                        \b\b\b\b 40%\b\b\b\b 41%\b\b\b\b 42%\b\b\b\b\b  OK \n",
            "Creating    MQ2008/Fold5                                              OK\n",
            "Extracting  MQ2008/Fold5/test.txt                                        \b\b\b\b 43%\b\b\b\b 44%\b\b\b\b\b  OK \n",
            "Extracting  MQ2008/Fold5/train.txt                                       \b\b\b\b 45%\b\b\b\b 46%\b\b\b\b 47%\b\b\b\b 48%\b\b\b\b 49%\b\b\b\b 50%\b\b\b\b 51%\b\b\b\b\b  OK \n",
            "Extracting  MQ2008/Fold5/vali.txt                                        \b\b\b\b 51%\b\b\b\b 52%\b\b\b\b 53%\b\b\b\b\b  OK \n",
            "Extracting  MQ2008/min.txt                                               \b\b\b\b 53%\b\b\b\b 54%\b\b\b\b 55%\b\b\b\b 56%\b\b\b\b 57%\b\b\b\b 58%\b\b\b\b 59%\b\b\b\b 60%\b\b\b\b 61%\b\b\b\b 62%\b\b\b\b 63%\b\b\b\b 64%\b\b\b\b 65%\b\b\b\b 66%\b\b\b\b\b  OK \n",
            "Extracting  MQ2008/NULL.txt                                              \b\b\b\b 66%\b\b\b\b 67%\b\b\b\b 68%\b\b\b\b 69%\b\b\b\b 70%\b\b\b\b 71%\b\b\b\b 72%\b\b\b\b 73%\b\b\b\b 74%\b\b\b\b 75%\b\b\b\b 76%\b\b\b\b 77%\b\b\b\b 78%\b\b\b\b\b  OK \n",
            "Extracting  MQ2008/Querylevelnorm.txt                                    \b\b\b\b 78%\b\b\b\b 79%\b\b\b\b 80%\b\b\b\b 81%\b\b\b\b 82%\b\b\b\b 83%\b\b\b\b 84%\b\b\b\b 85%\b\b\b\b 86%\b\b\b\b 87%\b\b\b\b 88%\b\b\b\b 89%\b\b\b\b\b  OK \n",
            "Extracting  MQ2008/readme.txt                                            \b\b\b\b 89%\b\b\b\b\b  OK \n",
            "Extracting  MQ2008/S1.txt                                                \b\b\b\b 89%\b\b\b\b 90%\b\b\b\b 91%\b\b\b\b\b  OK \n",
            "Extracting  MQ2008/S2.txt                                                \b\b\b\b 91%\b\b\b\b 92%\b\b\b\b 93%\b\b\b\b\b  OK \n",
            "Extracting  MQ2008/S3.txt                                                \b\b\b\b 94%\b\b\b\b 95%\b\b\b\b 96%\b\b\b\b\b  OK \n",
            "Extracting  MQ2008/S4.txt                                                \b\b\b\b 96%\b\b\b\b 97%\b\b\b\b\b  OK \n",
            "Extracting  MQ2008/S5.txt                                                \b\b\b\b 98%\b\b\b\b 99%\b\b\b\b\b  OK \n",
            "All OK\n"
          ],
          "name": "stdout"
        }
      ]
    },
    {
      "cell_type": "code",
      "metadata": {
        "id": "fEHv-n4SoyrJ"
      },
      "source": [
        "#!/usr/bin/python\n",
        "import xgboost as xgb\n",
        "from sklearn.datasets import load_svmlight_file"
      ],
      "execution_count": 2,
      "outputs": []
    },
    {
      "cell_type": "code",
      "metadata": {
        "id": "5vCqtQAso-s2"
      },
      "source": [
        "#  This script demonstrate how to do ranking with XGBRanker\n",
        "x_train, y_train = load_svmlight_file(\"mq2008.train\")\n",
        "x_valid, y_valid = load_svmlight_file(\"mq2008.vali\")\n",
        "x_test, y_test = load_svmlight_file(\"mq2008.test\")"
      ],
      "execution_count": 4,
      "outputs": []
    },
    {
      "cell_type": "code",
      "metadata": {
        "id": "7G3hepvWo-qU"
      },
      "source": [
        "group_train = []\n",
        "with open(\"mq2008.train.group\", \"r\") as f:\n",
        "    data = f.readlines()\n",
        "    for line in data:\n",
        "        group_train.append(int(line.split(\"\\n\")[0]))\n",
        "\n",
        "group_valid = []\n",
        "with open(\"mq2008.vali.group\", \"r\") as f:\n",
        "    data = f.readlines()\n",
        "    for line in data:\n",
        "        group_valid.append(int(line.split(\"\\n\")[0]))\n",
        "\n",
        "group_test = []\n",
        "with open(\"mq2008.test.group\", \"r\") as f:\n",
        "    data = f.readlines()\n",
        "    for line in data:\n",
        "        group_test.append(int(line.split(\"\\n\")[0]))"
      ],
      "execution_count": 5,
      "outputs": []
    },
    {
      "cell_type": "code",
      "metadata": {
        "id": "qNrD_9RDo-n4"
      },
      "source": [
        "params = {'objective': 'rank:pairwise', 'eval_metric': 'ndcg', 'learning_rate': 0.1,\n",
        "          'gamma': 1.0, 'min_child_weight': 0.1,\n",
        "          'max_depth': 6, 'n_estimators': 4}"
      ],
      "execution_count": 6,
      "outputs": []
    },
    {
      "cell_type": "code",
      "metadata": {
        "colab": {
          "base_uri": "https://localhost:8080/"
        },
        "id": "HZBaMxQTo-k-",
        "outputId": "191ae879-3e5b-4a25-c6eb-2421932531cf"
      },
      "source": [
        "model = xgb.sklearn.XGBRanker(**params)\n",
        "model.fit(x_train, y_train, group_train, verbose=True,\n",
        "          eval_set=[(x_valid, y_valid)], eval_group=[group_valid])"
      ],
      "execution_count": 7,
      "outputs": [
        {
          "output_type": "stream",
          "text": [
            "[0]\teval_0-ndcg:0.808025\n",
            "[1]\teval_0-ndcg:0.806311\n",
            "[2]\teval_0-ndcg:0.816868\n",
            "[3]\teval_0-ndcg:0.819315\n"
          ],
          "name": "stdout"
        },
        {
          "output_type": "execute_result",
          "data": {
            "text/plain": [
              "XGBRanker(base_score=0.5, booster='gbtree', colsample_bylevel=1,\n",
              "          colsample_bynode=1, colsample_bytree=1, eval_metric='ndcg', gamma=1.0,\n",
              "          learning_rate=0.1, max_delta_step=0, max_depth=6,\n",
              "          min_child_weight=0.1, missing=None, n_estimators=4, n_jobs=-1,\n",
              "          nthread=None, objective='rank:pairwise', random_state=0, reg_alpha=0,\n",
              "          reg_lambda=1, scale_pos_weight=1, seed=None, silent=None, subsample=1,\n",
              "          verbosity=1)"
            ]
          },
          "metadata": {
            "tags": []
          },
          "execution_count": 7
        }
      ]
    },
    {
      "cell_type": "code",
      "metadata": {
        "colab": {
          "base_uri": "https://localhost:8080/"
        },
        "id": "_LKoM3MRo-iI",
        "outputId": "e6e3d12a-0688-4b5e-a888-c06d807787f9"
      },
      "source": [
        "pred = model.predict(x_test)\n",
        "pred"
      ],
      "execution_count": 8,
      "outputs": [
        {
          "output_type": "execute_result",
          "data": {
            "text/plain": [
              "array([0.44519764, 0.21894181, 0.39463773, ..., 0.18170652, 0.3905425 ,\n",
              "       0.4656999 ], dtype=float32)"
            ]
          },
          "metadata": {
            "tags": []
          },
          "execution_count": 8
        }
      ]
    },
    {
      "cell_type": "markdown",
      "metadata": {
        "id": "72fl5HLgpeqo"
      },
      "source": [
        "# **Fold 4**"
      ]
    },
    {
      "cell_type": "code",
      "metadata": {
        "colab": {
          "base_uri": "https://localhost:8080/"
        },
        "id": "fQsnzR4eo-fM",
        "outputId": "0f3cf1c5-3711-488e-887a-4b4bf77f424e"
      },
      "source": [
        "from google.colab import drive\n",
        "drive.mount('/content/drive')"
      ],
      "execution_count": 1,
      "outputs": [
        {
          "output_type": "stream",
          "text": [
            "Mounted at /content/drive\n"
          ],
          "name": "stdout"
        }
      ]
    },
    {
      "cell_type": "code",
      "metadata": {
        "colab": {
          "base_uri": "https://localhost:8080/"
        },
        "id": "dMeriNuNo-Zh",
        "outputId": "dac354f7-76c4-4d98-fcdd-d212cb62eeeb"
      },
      "source": [
        "!sh /content/drive/MyDrive/xgboost-master/demo/rank/wgetdata4.sh"
      ],
      "execution_count": 3,
      "outputs": [
        {
          "output_type": "stream",
          "text": [
            "Downloading data.\n",
            "--2021-05-20 02:45:39--  https://s3-us-west-2.amazonaws.com/xgboost-examples/MQ2008.rar\n",
            "Resolving s3-us-west-2.amazonaws.com (s3-us-west-2.amazonaws.com)... 52.218.201.128\n",
            "Connecting to s3-us-west-2.amazonaws.com (s3-us-west-2.amazonaws.com)|52.218.201.128|:443... connected.\n",
            "HTTP request sent, awaiting response... 200 OK\n",
            "Length: 15448795 (15M) [application/x-rar-compressed]\n",
            "Saving to: ‘MQ2008.rar’\n",
            "\n",
            "MQ2008.rar          100%[===================>]  14.73M  32.2MB/s    in 0.5s    \n",
            "\n",
            "2021-05-20 02:45:40 (32.2 MB/s) - ‘MQ2008.rar’ saved [15448795/15448795]\n",
            "\n",
            "\n",
            "UNRAR 5.50 freeware      Copyright (c) 1993-2017 Alexander Roshal\n",
            "\n",
            "\n",
            "Extracting from MQ2008.rar\n",
            "\n",
            "Creating    MQ2008                                                    OK\n",
            "Creating    MQ2008/Fold1                                              OK\n",
            "Extracting  MQ2008/Fold1/test.txt                                        \b\b\b\b  0%\b\b\b\b  1%\b\b\b\b  2%\b\b\b\b\b  OK \n",
            "Extracting  MQ2008/Fold1/train.txt                                       \b\b\b\b  2%\b\b\b\b  3%\b\b\b\b  4%\b\b\b\b  5%\b\b\b\b  6%\b\b\b\b  7%\b\b\b\b  8%\b\b\b\b\b  OK \n",
            "Extracting  MQ2008/Fold1/vali.txt                                        \b\b\b\b  9%\b\b\b\b 10%\b\b\b\b\b  OK \n",
            "Creating    MQ2008/Fold2                                              OK\n",
            "Extracting  MQ2008/Fold2/test.txt                                        \b\b\b\b 10%\b\b\b\b 11%\b\b\b\b 12%\b\b\b\b\b  OK \n",
            "Extracting  MQ2008/Fold2/train.txt                                       \b\b\b\b 12%\b\b\b\b 13%\b\b\b\b 14%\b\b\b\b 15%\b\b\b\b 16%\b\b\b\b 17%\b\b\b\b 18%\b\b\b\b 19%\b\b\b\b\b  OK \n",
            "Extracting  MQ2008/Fold2/vali.txt                                        \b\b\b\b 19%\b\b\b\b 20%\b\b\b\b 21%\b\b\b\b\b  OK \n",
            "Creating    MQ2008/Fold3                                              OK\n",
            "Extracting  MQ2008/Fold3/test.txt                                        \b\b\b\b 21%\b\b\b\b 22%\b\b\b\b 23%\b\b\b\b\b  OK \n",
            "Extracting  MQ2008/Fold3/train.txt                                       \b\b\b\b 24%\b\b\b\b 25%\b\b\b\b 26%\b\b\b\b 27%\b\b\b\b 28%\b\b\b\b 29%\b\b\b\b 30%\b\b\b\b\b  OK \n",
            "Extracting  MQ2008/Fold3/vali.txt                                        \b\b\b\b 30%\b\b\b\b 31%\b\b\b\b 32%\b\b\b\b\b  OK \n",
            "Creating    MQ2008/Fold4                                              OK\n",
            "Extracting  MQ2008/Fold4/test.txt                                        \b\b\b\b 32%\b\b\b\b 33%\b\b\b\b 34%\b\b\b\b\b  OK \n",
            "Extracting  MQ2008/Fold4/train.txt                                       \b\b\b\b 34%\b\b\b\b 35%\b\b\b\b 36%\b\b\b\b 37%\b\b\b\b 38%\b\b\b\b 39%\b\b\b\b 40%\b\b\b\b\b  OK \n",
            "Extracting  MQ2008/Fold4/vali.txt                                        \b\b\b\b 40%\b\b\b\b 41%\b\b\b\b 42%\b\b\b\b\b  OK \n",
            "Creating    MQ2008/Fold5                                              OK\n",
            "Extracting  MQ2008/Fold5/test.txt                                        \b\b\b\b 43%\b\b\b\b 44%\b\b\b\b\b  OK \n",
            "Extracting  MQ2008/Fold5/train.txt                                       \b\b\b\b 45%\b\b\b\b 46%\b\b\b\b 47%\b\b\b\b 48%\b\b\b\b 49%\b\b\b\b 50%\b\b\b\b 51%\b\b\b\b\b  OK \n",
            "Extracting  MQ2008/Fold5/vali.txt                                        \b\b\b\b 51%\b\b\b\b 52%\b\b\b\b 53%\b\b\b\b\b  OK \n",
            "Extracting  MQ2008/min.txt                                               \b\b\b\b 53%\b\b\b\b 54%\b\b\b\b 55%\b\b\b\b 56%\b\b\b\b 57%\b\b\b\b 58%\b\b\b\b 59%\b\b\b\b 60%\b\b\b\b 61%\b\b\b\b 62%\b\b\b\b 63%\b\b\b\b 64%\b\b\b\b 65%\b\b\b\b 66%\b\b\b\b\b  OK \n",
            "Extracting  MQ2008/NULL.txt                                              \b\b\b\b 66%\b\b\b\b 67%\b\b\b\b 68%\b\b\b\b 69%\b\b\b\b 70%\b\b\b\b 71%\b\b\b\b 72%\b\b\b\b 73%\b\b\b\b 74%\b\b\b\b 75%\b\b\b\b 76%\b\b\b\b 77%\b\b\b\b 78%\b\b\b\b\b  OK \n",
            "Extracting  MQ2008/Querylevelnorm.txt                                    \b\b\b\b 78%\b\b\b\b 79%\b\b\b\b 80%\b\b\b\b 81%\b\b\b\b 82%\b\b\b\b 83%\b\b\b\b 84%\b\b\b\b 85%\b\b\b\b 86%\b\b\b\b 87%\b\b\b\b 88%\b\b\b\b 89%\b\b\b\b\b  OK \n",
            "Extracting  MQ2008/readme.txt                                            \b\b\b\b 89%\b\b\b\b\b  OK \n",
            "Extracting  MQ2008/S1.txt                                                \b\b\b\b 89%\b\b\b\b 90%\b\b\b\b 91%\b\b\b\b\b  OK \n",
            "Extracting  MQ2008/S2.txt                                                \b\b\b\b 91%\b\b\b\b 92%\b\b\b\b 93%\b\b\b\b\b  OK \n",
            "Extracting  MQ2008/S3.txt                                                \b\b\b\b 94%\b\b\b\b 95%\b\b\b\b 96%\b\b\b\b\b  OK \n",
            "Extracting  MQ2008/S4.txt                                                \b\b\b\b 96%\b\b\b\b 97%\b\b\b\b\b  OK \n",
            "Extracting  MQ2008/S5.txt                                                \b\b\b\b 98%\b\b\b\b 99%\b\b\b\b\b  OK \n",
            "All OK\n"
          ],
          "name": "stdout"
        }
      ]
    },
    {
      "cell_type": "code",
      "metadata": {
        "id": "IAhhCuFGo-cv"
      },
      "source": [
        "#!/usr/bin/python\n",
        "import xgboost as xgb\n",
        "from sklearn.datasets import load_svmlight_file"
      ],
      "execution_count": 2,
      "outputs": []
    },
    {
      "cell_type": "code",
      "metadata": {
        "id": "qGYBFRbHo-Wg"
      },
      "source": [
        "#  This script demonstrate how to do ranking with XGBRanker\n",
        "x_train, y_train = load_svmlight_file(\"mq2008.train\")\n",
        "x_valid, y_valid = load_svmlight_file(\"mq2008.vali\")\n",
        "x_test, y_test = load_svmlight_file(\"mq2008.test\")"
      ],
      "execution_count": 4,
      "outputs": []
    },
    {
      "cell_type": "code",
      "metadata": {
        "id": "6ZNfm5QYo-Th"
      },
      "source": [
        "group_train = []\n",
        "with open(\"mq2008.train.group\", \"r\") as f:\n",
        "    data = f.readlines()\n",
        "    for line in data:\n",
        "        group_train.append(int(line.split(\"\\n\")[0]))\n",
        "\n",
        "group_valid = []\n",
        "with open(\"mq2008.vali.group\", \"r\") as f:\n",
        "    data = f.readlines()\n",
        "    for line in data:\n",
        "        group_valid.append(int(line.split(\"\\n\")[0]))\n",
        "\n",
        "group_test = []\n",
        "with open(\"mq2008.test.group\", \"r\") as f:\n",
        "    data = f.readlines()\n",
        "    for line in data:\n",
        "        group_test.append(int(line.split(\"\\n\")[0]))"
      ],
      "execution_count": 5,
      "outputs": []
    },
    {
      "cell_type": "code",
      "metadata": {
        "id": "CIXk-y5eqPeq"
      },
      "source": [
        "params = {'objective': 'rank:pairwise', 'eval_metric': 'ndcg', 'learning_rate': 0.1,\n",
        "          'gamma': 1.0, 'min_child_weight': 0.1,\n",
        "          'max_depth': 6, 'n_estimators': 4}"
      ],
      "execution_count": 6,
      "outputs": []
    },
    {
      "cell_type": "code",
      "metadata": {
        "colab": {
          "base_uri": "https://localhost:8080/"
        },
        "id": "b7kgPERqqPb6",
        "outputId": "be11f8c0-4d39-47d6-8cfc-187a25412027"
      },
      "source": [
        "model = xgb.sklearn.XGBRanker(**params)\n",
        "model.fit(x_train, y_train, group_train, verbose=True,\n",
        "          eval_set=[(x_valid, y_valid)], eval_group=[group_valid])"
      ],
      "execution_count": 7,
      "outputs": [
        {
          "output_type": "stream",
          "text": [
            "[0]\teval_0-ndcg:0.777406\n",
            "[1]\teval_0-ndcg:0.791057\n",
            "[2]\teval_0-ndcg:0.790832\n",
            "[3]\teval_0-ndcg:0.790213\n"
          ],
          "name": "stdout"
        },
        {
          "output_type": "execute_result",
          "data": {
            "text/plain": [
              "XGBRanker(base_score=0.5, booster='gbtree', colsample_bylevel=1,\n",
              "          colsample_bynode=1, colsample_bytree=1, eval_metric='ndcg', gamma=1.0,\n",
              "          learning_rate=0.1, max_delta_step=0, max_depth=6,\n",
              "          min_child_weight=0.1, missing=None, n_estimators=4, n_jobs=-1,\n",
              "          nthread=None, objective='rank:pairwise', random_state=0, reg_alpha=0,\n",
              "          reg_lambda=1, scale_pos_weight=1, seed=None, silent=None, subsample=1,\n",
              "          verbosity=1)"
            ]
          },
          "metadata": {
            "tags": []
          },
          "execution_count": 7
        }
      ]
    },
    {
      "cell_type": "code",
      "metadata": {
        "colab": {
          "base_uri": "https://localhost:8080/"
        },
        "id": "lDPB--8Yo-Q8",
        "outputId": "bcdd4ab5-9a30-4880-f480-053156bb2687"
      },
      "source": [
        "pred = model.predict(x_test)\n",
        "pred"
      ],
      "execution_count": 8,
      "outputs": [
        {
          "output_type": "execute_result",
          "data": {
            "text/plain": [
              "array([0.27632144, 0.5273962 , 0.15340301, ..., 0.31337026, 0.15340301,\n",
              "       0.19307825], dtype=float32)"
            ]
          },
          "metadata": {
            "tags": []
          },
          "execution_count": 8
        }
      ]
    },
    {
      "cell_type": "markdown",
      "metadata": {
        "id": "W-OAFiYYpic8"
      },
      "source": [
        "# **Fold 5**"
      ]
    },
    {
      "cell_type": "code",
      "metadata": {
        "colab": {
          "base_uri": "https://localhost:8080/"
        },
        "id": "JQwLvT5xpjZC",
        "outputId": "e20ff924-5ba9-4d67-d5c9-bfdea5373adf"
      },
      "source": [
        "from google.colab import drive\n",
        "drive.mount('/content/drive')"
      ],
      "execution_count": 1,
      "outputs": [
        {
          "output_type": "stream",
          "text": [
            "Mounted at /content/drive\n"
          ],
          "name": "stdout"
        }
      ]
    },
    {
      "cell_type": "code",
      "metadata": {
        "colab": {
          "base_uri": "https://localhost:8080/"
        },
        "id": "-FIQkeLbpj5J",
        "outputId": "29f35e30-a032-48d9-ddd1-13c05bee8efa"
      },
      "source": [
        "!sh /content/drive/MyDrive/xgboost-master/demo/rank/wgetdata5.sh"
      ],
      "execution_count": 2,
      "outputs": [
        {
          "output_type": "stream",
          "text": [
            "Downloading data.\n",
            "--2021-05-20 02:48:11--  https://s3-us-west-2.amazonaws.com/xgboost-examples/MQ2008.rar\n",
            "Resolving s3-us-west-2.amazonaws.com (s3-us-west-2.amazonaws.com)... 52.92.160.16\n",
            "Connecting to s3-us-west-2.amazonaws.com (s3-us-west-2.amazonaws.com)|52.92.160.16|:443... connected.\n",
            "HTTP request sent, awaiting response... 200 OK\n",
            "Length: 15448795 (15M) [application/x-rar-compressed]\n",
            "Saving to: ‘MQ2008.rar’\n",
            "\n",
            "MQ2008.rar          100%[===================>]  14.73M  14.8MB/s    in 1.0s    \n",
            "\n",
            "2021-05-20 02:48:12 (14.8 MB/s) - ‘MQ2008.rar’ saved [15448795/15448795]\n",
            "\n",
            "\n",
            "UNRAR 5.50 freeware      Copyright (c) 1993-2017 Alexander Roshal\n",
            "\n",
            "\n",
            "Extracting from MQ2008.rar\n",
            "\n",
            "Creating    MQ2008                                                    OK\n",
            "Creating    MQ2008/Fold1                                              OK\n",
            "Extracting  MQ2008/Fold1/test.txt                                        \b\b\b\b  0%\b\b\b\b  1%\b\b\b\b  2%\b\b\b\b\b  OK \n",
            "Extracting  MQ2008/Fold1/train.txt                                       \b\b\b\b  2%\b\b\b\b  3%\b\b\b\b  4%\b\b\b\b  5%\b\b\b\b  6%\b\b\b\b  7%\b\b\b\b  8%\b\b\b\b\b  OK \n",
            "Extracting  MQ2008/Fold1/vali.txt                                        \b\b\b\b  9%\b\b\b\b 10%\b\b\b\b\b  OK \n",
            "Creating    MQ2008/Fold2                                              OK\n",
            "Extracting  MQ2008/Fold2/test.txt                                        \b\b\b\b 10%\b\b\b\b 11%\b\b\b\b 12%\b\b\b\b\b  OK \n",
            "Extracting  MQ2008/Fold2/train.txt                                       \b\b\b\b 12%\b\b\b\b 13%\b\b\b\b 14%\b\b\b\b 15%\b\b\b\b 16%\b\b\b\b 17%\b\b\b\b 18%\b\b\b\b 19%\b\b\b\b\b  OK \n",
            "Extracting  MQ2008/Fold2/vali.txt                                        \b\b\b\b 19%\b\b\b\b 20%\b\b\b\b 21%\b\b\b\b\b  OK \n",
            "Creating    MQ2008/Fold3                                              OK\n",
            "Extracting  MQ2008/Fold3/test.txt                                        \b\b\b\b 21%\b\b\b\b 22%\b\b\b\b 23%\b\b\b\b\b  OK \n",
            "Extracting  MQ2008/Fold3/train.txt                                       \b\b\b\b 24%\b\b\b\b 25%\b\b\b\b 26%\b\b\b\b 27%\b\b\b\b 28%\b\b\b\b 29%\b\b\b\b 30%\b\b\b\b\b  OK \n",
            "Extracting  MQ2008/Fold3/vali.txt                                        \b\b\b\b 30%\b\b\b\b 31%\b\b\b\b 32%\b\b\b\b\b  OK \n",
            "Creating    MQ2008/Fold4                                              OK\n",
            "Extracting  MQ2008/Fold4/test.txt                                        \b\b\b\b 32%\b\b\b\b 33%\b\b\b\b 34%\b\b\b\b\b  OK \n",
            "Extracting  MQ2008/Fold4/train.txt                                       \b\b\b\b 34%\b\b\b\b 35%\b\b\b\b 36%\b\b\b\b 37%\b\b\b\b 38%\b\b\b\b 39%\b\b\b\b 40%\b\b\b\b\b  OK \n",
            "Extracting  MQ2008/Fold4/vali.txt                                        \b\b\b\b 40%\b\b\b\b 41%\b\b\b\b 42%\b\b\b\b\b  OK \n",
            "Creating    MQ2008/Fold5                                              OK\n",
            "Extracting  MQ2008/Fold5/test.txt                                        \b\b\b\b 43%\b\b\b\b 44%\b\b\b\b\b  OK \n",
            "Extracting  MQ2008/Fold5/train.txt                                       \b\b\b\b 45%\b\b\b\b 46%\b\b\b\b 47%\b\b\b\b 48%\b\b\b\b 49%\b\b\b\b 50%\b\b\b\b 51%\b\b\b\b\b  OK \n",
            "Extracting  MQ2008/Fold5/vali.txt                                        \b\b\b\b 51%\b\b\b\b 52%\b\b\b\b 53%\b\b\b\b\b  OK \n",
            "Extracting  MQ2008/min.txt                                               \b\b\b\b 53%\b\b\b\b 54%\b\b\b\b 55%\b\b\b\b 56%\b\b\b\b 57%\b\b\b\b 58%\b\b\b\b 59%\b\b\b\b 60%\b\b\b\b 61%\b\b\b\b 62%\b\b\b\b 63%\b\b\b\b 64%\b\b\b\b 65%\b\b\b\b 66%\b\b\b\b\b  OK \n",
            "Extracting  MQ2008/NULL.txt                                              \b\b\b\b 66%\b\b\b\b 67%\b\b\b\b 68%\b\b\b\b 69%\b\b\b\b 70%\b\b\b\b 71%\b\b\b\b 72%\b\b\b\b 73%\b\b\b\b 74%\b\b\b\b 75%\b\b\b\b 76%\b\b\b\b 77%\b\b\b\b 78%\b\b\b\b\b  OK \n",
            "Extracting  MQ2008/Querylevelnorm.txt                                    \b\b\b\b 78%\b\b\b\b 79%\b\b\b\b 80%\b\b\b\b 81%\b\b\b\b 82%\b\b\b\b 83%\b\b\b\b 84%\b\b\b\b 85%\b\b\b\b 86%\b\b\b\b 87%\b\b\b\b 88%\b\b\b\b 89%\b\b\b\b\b  OK \n",
            "Extracting  MQ2008/readme.txt                                            \b\b\b\b 89%\b\b\b\b\b  OK \n",
            "Extracting  MQ2008/S1.txt                                                \b\b\b\b 89%\b\b\b\b 90%\b\b\b\b 91%\b\b\b\b\b  OK \n",
            "Extracting  MQ2008/S2.txt                                                \b\b\b\b 91%\b\b\b\b 92%\b\b\b\b 93%\b\b\b\b\b  OK \n",
            "Extracting  MQ2008/S3.txt                                                \b\b\b\b 94%\b\b\b\b 95%\b\b\b\b 96%\b\b\b\b\b  OK \n",
            "Extracting  MQ2008/S4.txt                                                \b\b\b\b 96%\b\b\b\b 97%\b\b\b\b\b  OK \n",
            "Extracting  MQ2008/S5.txt                                                \b\b\b\b 98%\b\b\b\b 99%\b\b\b\b\b  OK \n",
            "All OK\n"
          ],
          "name": "stdout"
        }
      ]
    },
    {
      "cell_type": "code",
      "metadata": {
        "id": "WBUtAH4vpj7t"
      },
      "source": [
        "#!/usr/bin/python\n",
        "import xgboost as xgb\n",
        "from sklearn.datasets import load_svmlight_file"
      ],
      "execution_count": 3,
      "outputs": []
    },
    {
      "cell_type": "code",
      "metadata": {
        "id": "n2gTH-WDqY4d"
      },
      "source": [
        "group_train = []\n",
        "with open(\"mq2008.train.group\", \"r\") as f:\n",
        "    data = f.readlines()\n",
        "    for line in data:\n",
        "        group_train.append(int(line.split(\"\\n\")[0]))\n",
        "\n",
        "group_valid = []\n",
        "with open(\"mq2008.vali.group\", \"r\") as f:\n",
        "    data = f.readlines()\n",
        "    for line in data:\n",
        "        group_valid.append(int(line.split(\"\\n\")[0]))\n",
        "\n",
        "group_test = []\n",
        "with open(\"mq2008.test.group\", \"r\") as f:\n",
        "    data = f.readlines()\n",
        "    for line in data:\n",
        "        group_test.append(int(line.split(\"\\n\")[0]))"
      ],
      "execution_count": 4,
      "outputs": []
    },
    {
      "cell_type": "code",
      "metadata": {
        "id": "0Pt5WupeqY8P"
      },
      "source": [
        "#  This script demonstrate how to do ranking with XGBRanker\n",
        "x_train, y_train = load_svmlight_file(\"mq2008.train\")\n",
        "x_valid, y_valid = load_svmlight_file(\"mq2008.vali\")\n",
        "x_test, y_test = load_svmlight_file(\"mq2008.test\")"
      ],
      "execution_count": 5,
      "outputs": []
    },
    {
      "cell_type": "code",
      "metadata": {
        "id": "GYHR6NWoqY1t"
      },
      "source": [
        "params = {'objective': 'rank:pairwise', 'eval_metric': 'ndcg', 'learning_rate': 0.1,\n",
        "          'gamma': 1.0, 'min_child_weight': 0.1,\n",
        "          'max_depth': 6, 'n_estimators': 4}"
      ],
      "execution_count": 6,
      "outputs": []
    },
    {
      "cell_type": "code",
      "metadata": {
        "colab": {
          "base_uri": "https://localhost:8080/"
        },
        "id": "odLxcbseqYzD",
        "outputId": "803394f8-ac5d-4d58-ddc1-81523350599a"
      },
      "source": [
        "model = xgb.sklearn.XGBRanker(**params)\n",
        "model.fit(x_train, y_train, group_train, verbose=True,\n",
        "          eval_set=[(x_valid, y_valid)], eval_group=[group_valid])"
      ],
      "execution_count": 7,
      "outputs": [
        {
          "output_type": "stream",
          "text": [
            "[0]\teval_0-ndcg:0.790501\n",
            "[1]\teval_0-ndcg:0.798573\n",
            "[2]\teval_0-ndcg:0.804969\n",
            "[3]\teval_0-ndcg:0.809962\n"
          ],
          "name": "stdout"
        },
        {
          "output_type": "execute_result",
          "data": {
            "text/plain": [
              "XGBRanker(base_score=0.5, booster='gbtree', colsample_bylevel=1,\n",
              "          colsample_bynode=1, colsample_bytree=1, eval_metric='ndcg', gamma=1.0,\n",
              "          learning_rate=0.1, max_delta_step=0, max_depth=6,\n",
              "          min_child_weight=0.1, missing=None, n_estimators=4, n_jobs=-1,\n",
              "          nthread=None, objective='rank:pairwise', random_state=0, reg_alpha=0,\n",
              "          reg_lambda=1, scale_pos_weight=1, seed=None, silent=None, subsample=1,\n",
              "          verbosity=1)"
            ]
          },
          "metadata": {
            "tags": []
          },
          "execution_count": 7
        }
      ]
    },
    {
      "cell_type": "code",
      "metadata": {
        "colab": {
          "base_uri": "https://localhost:8080/"
        },
        "id": "AIJSg-Q8qYws",
        "outputId": "76520087-7eb7-4644-ec6a-84ea0201a14a"
      },
      "source": [
        "pred = model.predict(x_test)\n",
        "pred"
      ],
      "execution_count": 8,
      "outputs": [
        {
          "output_type": "execute_result",
          "data": {
            "text/plain": [
              "array([0.6081486 , 0.17433548, 0.6490176 , ..., 0.17906103, 0.3834355 ,\n",
              "       0.6490176 ], dtype=float32)"
            ]
          },
          "metadata": {
            "tags": []
          },
          "execution_count": 8
        }
      ]
    }
  ]
}